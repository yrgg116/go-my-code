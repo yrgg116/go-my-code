{
 "cells": [
  {
   "cell_type": "markdown",
   "metadata": {},
   "source": [
    "# 1 problem identification"
   ]
  },
  {
   "cell_type": "markdown",
   "metadata": {},
   "source": [
    "our problem is what is the possible impacts of these objects on earth"
   ]
  },
  {
   "cell_type": "markdown",
   "metadata": {},
   "source": [
    "# 2 choosing an appropriate data"
   ]
  },
  {
   "cell_type": "code",
   "execution_count": 2,
   "metadata": {},
   "outputs": [
    {
     "data": {
      "text/html": [
       "<div>\n",
       "<style scoped>\n",
       "    .dataframe tbody tr th:only-of-type {\n",
       "        vertical-align: middle;\n",
       "    }\n",
       "\n",
       "    .dataframe tbody tr th {\n",
       "        vertical-align: top;\n",
       "    }\n",
       "\n",
       "    .dataframe thead th {\n",
       "        text-align: right;\n",
       "    }\n",
       "</style>\n",
       "<table border=\"1\" class=\"dataframe\">\n",
       "  <thead>\n",
       "    <tr style=\"text-align: right;\">\n",
       "      <th></th>\n",
       "      <th>Object Name</th>\n",
       "      <th>Period Start</th>\n",
       "      <th>Period End</th>\n",
       "      <th>Possible Impacts</th>\n",
       "      <th>Cumulative Impact Probability</th>\n",
       "      <th>Asteroid Velocity</th>\n",
       "      <th>Asteroid Magnitude</th>\n",
       "      <th>Asteroid Diameter (km)</th>\n",
       "      <th>Cumulative Palermo Scale</th>\n",
       "      <th>Maximum Palermo Scale</th>\n",
       "      <th>Maximum Torino Scale</th>\n",
       "    </tr>\n",
       "  </thead>\n",
       "  <tbody>\n",
       "    <tr>\n",
       "      <th>0</th>\n",
       "      <td>2006 WP1</td>\n",
       "      <td>2017</td>\n",
       "      <td>2017</td>\n",
       "      <td>1</td>\n",
       "      <td>5.200000e-09</td>\n",
       "      <td>17.77</td>\n",
       "      <td>28.3</td>\n",
       "      <td>0.007</td>\n",
       "      <td>-8.31</td>\n",
       "      <td>-8.31</td>\n",
       "      <td>0</td>\n",
       "    </tr>\n",
       "    <tr>\n",
       "      <th>1</th>\n",
       "      <td>2013 YB</td>\n",
       "      <td>2017</td>\n",
       "      <td>2046</td>\n",
       "      <td>23</td>\n",
       "      <td>7.600000e-05</td>\n",
       "      <td>8.98</td>\n",
       "      <td>31.4</td>\n",
       "      <td>0.002</td>\n",
       "      <td>-6.60</td>\n",
       "      <td>-6.96</td>\n",
       "      <td>0</td>\n",
       "    </tr>\n",
       "    <tr>\n",
       "      <th>2</th>\n",
       "      <td>2008 US</td>\n",
       "      <td>2017</td>\n",
       "      <td>2062</td>\n",
       "      <td>30</td>\n",
       "      <td>1.600000e-05</td>\n",
       "      <td>18.33</td>\n",
       "      <td>31.4</td>\n",
       "      <td>0.002</td>\n",
       "      <td>-6.48</td>\n",
       "      <td>-6.87</td>\n",
       "      <td>0</td>\n",
       "    </tr>\n",
       "    <tr>\n",
       "      <th>3</th>\n",
       "      <td>2010 VR139</td>\n",
       "      <td>2017</td>\n",
       "      <td>2076</td>\n",
       "      <td>24</td>\n",
       "      <td>2.000000e-07</td>\n",
       "      <td>4.99</td>\n",
       "      <td>26.7</td>\n",
       "      <td>0.016</td>\n",
       "      <td>-6.83</td>\n",
       "      <td>-6.95</td>\n",
       "      <td>0</td>\n",
       "    </tr>\n",
       "    <tr>\n",
       "      <th>4</th>\n",
       "      <td>2015 ME131</td>\n",
       "      <td>2017</td>\n",
       "      <td>2096</td>\n",
       "      <td>85</td>\n",
       "      <td>2.300000e-08</td>\n",
       "      <td>19.46</td>\n",
       "      <td>19.2</td>\n",
       "      <td>0.497</td>\n",
       "      <td>-3.85</td>\n",
       "      <td>-4.30</td>\n",
       "      <td>0</td>\n",
       "    </tr>\n",
       "    <tr>\n",
       "      <th>...</th>\n",
       "      <td>...</td>\n",
       "      <td>...</td>\n",
       "      <td>...</td>\n",
       "      <td>...</td>\n",
       "      <td>...</td>\n",
       "      <td>...</td>\n",
       "      <td>...</td>\n",
       "      <td>...</td>\n",
       "      <td>...</td>\n",
       "      <td>...</td>\n",
       "      <td>...</td>\n",
       "    </tr>\n",
       "    <tr>\n",
       "      <th>678</th>\n",
       "      <td>2014 KW76</td>\n",
       "      <td>2115</td>\n",
       "      <td>2115</td>\n",
       "      <td>1</td>\n",
       "      <td>2.800000e-07</td>\n",
       "      <td>15.00</td>\n",
       "      <td>28.0</td>\n",
       "      <td>0.008</td>\n",
       "      <td>-8.22</td>\n",
       "      <td>-8.22</td>\n",
       "      <td>0</td>\n",
       "    </tr>\n",
       "    <tr>\n",
       "      <th>679</th>\n",
       "      <td>2012 FN</td>\n",
       "      <td>2115</td>\n",
       "      <td>2115</td>\n",
       "      <td>1</td>\n",
       "      <td>2.300000e-08</td>\n",
       "      <td>3.27</td>\n",
       "      <td>29.2</td>\n",
       "      <td>0.005</td>\n",
       "      <td>-10.18</td>\n",
       "      <td>-10.20</td>\n",
       "      <td>0</td>\n",
       "    </tr>\n",
       "    <tr>\n",
       "      <th>680</th>\n",
       "      <td>101955 Bennu (1999 RQ36)</td>\n",
       "      <td>2175</td>\n",
       "      <td>2199</td>\n",
       "      <td>78</td>\n",
       "      <td>3.700000e-04</td>\n",
       "      <td>5.99</td>\n",
       "      <td>20.2</td>\n",
       "      <td>0.490</td>\n",
       "      <td>-1.71</td>\n",
       "      <td>-2.32</td>\n",
       "      <td>(*)</td>\n",
       "    </tr>\n",
       "    <tr>\n",
       "      <th>681</th>\n",
       "      <td>410777 (2009 FD)</td>\n",
       "      <td>2185</td>\n",
       "      <td>2198</td>\n",
       "      <td>7</td>\n",
       "      <td>1.600000e-03</td>\n",
       "      <td>15.87</td>\n",
       "      <td>22.1</td>\n",
       "      <td>0.160</td>\n",
       "      <td>-1.78</td>\n",
       "      <td>-1.83</td>\n",
       "      <td>(*)</td>\n",
       "    </tr>\n",
       "    <tr>\n",
       "      <th>682</th>\n",
       "      <td>29075 (1950 DA)</td>\n",
       "      <td>2880</td>\n",
       "      <td>2880</td>\n",
       "      <td>1</td>\n",
       "      <td>1.200000e-04</td>\n",
       "      <td>14.10</td>\n",
       "      <td>17.6</td>\n",
       "      <td>1.300</td>\n",
       "      <td>-1.42</td>\n",
       "      <td>-1.42</td>\n",
       "      <td>(*)</td>\n",
       "    </tr>\n",
       "  </tbody>\n",
       "</table>\n",
       "<p>683 rows × 11 columns</p>\n",
       "</div>"
      ],
      "text/plain": [
       "                  Object Name  Period Start  Period End  Possible Impacts  \\\n",
       "0                    2006 WP1          2017        2017                 1   \n",
       "1                     2013 YB          2017        2046                23   \n",
       "2                     2008 US          2017        2062                30   \n",
       "3                  2010 VR139          2017        2076                24   \n",
       "4                  2015 ME131          2017        2096                85   \n",
       "..                        ...           ...         ...               ...   \n",
       "678                 2014 KW76          2115        2115                 1   \n",
       "679                   2012 FN          2115        2115                 1   \n",
       "680  101955 Bennu (1999 RQ36)          2175        2199                78   \n",
       "681          410777 (2009 FD)          2185        2198                 7   \n",
       "682           29075 (1950 DA)          2880        2880                 1   \n",
       "\n",
       "     Cumulative Impact Probability  Asteroid Velocity  Asteroid Magnitude  \\\n",
       "0                     5.200000e-09              17.77                28.3   \n",
       "1                     7.600000e-05               8.98                31.4   \n",
       "2                     1.600000e-05              18.33                31.4   \n",
       "3                     2.000000e-07               4.99                26.7   \n",
       "4                     2.300000e-08              19.46                19.2   \n",
       "..                             ...                ...                 ...   \n",
       "678                   2.800000e-07              15.00                28.0   \n",
       "679                   2.300000e-08               3.27                29.2   \n",
       "680                   3.700000e-04               5.99                20.2   \n",
       "681                   1.600000e-03              15.87                22.1   \n",
       "682                   1.200000e-04              14.10                17.6   \n",
       "\n",
       "     Asteroid Diameter (km)  Cumulative Palermo Scale  Maximum Palermo Scale  \\\n",
       "0                     0.007                     -8.31                  -8.31   \n",
       "1                     0.002                     -6.60                  -6.96   \n",
       "2                     0.002                     -6.48                  -6.87   \n",
       "3                     0.016                     -6.83                  -6.95   \n",
       "4                     0.497                     -3.85                  -4.30   \n",
       "..                      ...                       ...                    ...   \n",
       "678                   0.008                     -8.22                  -8.22   \n",
       "679                   0.005                    -10.18                 -10.20   \n",
       "680                   0.490                     -1.71                  -2.32   \n",
       "681                   0.160                     -1.78                  -1.83   \n",
       "682                   1.300                     -1.42                  -1.42   \n",
       "\n",
       "    Maximum Torino Scale  \n",
       "0                      0  \n",
       "1                      0  \n",
       "2                      0  \n",
       "3                      0  \n",
       "4                      0  \n",
       "..                   ...  \n",
       "678                    0  \n",
       "679                    0  \n",
       "680                  (*)  \n",
       "681                  (*)  \n",
       "682                  (*)  \n",
       "\n",
       "[683 rows x 11 columns]"
      ]
     },
     "execution_count": 2,
     "metadata": {},
     "output_type": "execute_result"
    }
   ],
   "source": [
    "import pandas as pd\n",
    "df=pd.read_csv('impacts.csv')\n",
    "df\n"
   ]
  },
  {
   "cell_type": "markdown",
   "metadata": {},
   "source": [
    "our dataset is talking about different objects in the space that can heat the earth .  \n",
    "first , let's understand the features of our dataset : \n",
    "1)object name : the name of the object\n",
    "2)period start : when will the object can heat the earth \n",
    "3)period end : after the period end , the object can not hit the earth anymore \n",
    "4)cummulative impact probablility : the probability to heat the earth \n",
    "5)asteroid velocity : the speed of the object / asteroid\n",
    "6)asteroid magnitude : the degree of brightness of the asteroid , the brighest asteroids have the lowest magnitudes \n",
    "7)asteroid diameter(km) : the diameter of the asteroid in kilometers \n",
    "8)cumulative palermo scale :the average of a logarithmic scale used to rate the potential hazard of impact of a near earth object.A rating of +2 would indicate the hazard is 100 times greater than a random background event. Scale values less than −2 reflect events for which there are no likely consequences\n",
    "10)maximum palermo scale : the maximum of a logarithmic scale used to rate the potential hazard of impact of a near earth object \n",
    "11)maximum torino scale :  a method for categorizing the impact hazard associated with near-Earth objects . the scale is gratuated from 0 to 10 \n",
    "12) the output : possible impacts "
   ]
  },
  {
   "cell_type": "markdown",
   "metadata": {},
   "source": [
    "# 3 data preparation"
   ]
  },
  {
   "cell_type": "code",
   "execution_count": 3,
   "metadata": {},
   "outputs": [
    {
     "data": {
      "text/plain": [
       "Object Name                      0\n",
       "Period Start                     0\n",
       "Period End                       0\n",
       "Possible Impacts                 0\n",
       "Cumulative Impact Probability    0\n",
       "Asteroid Velocity                0\n",
       "Asteroid Magnitude               0\n",
       "Asteroid Diameter (km)           0\n",
       "Cumulative Palermo Scale         0\n",
       "Maximum Palermo Scale            0\n",
       "Maximum Torino Scale             0\n",
       "dtype: int64"
      ]
     },
     "execution_count": 3,
     "metadata": {},
     "output_type": "execute_result"
    }
   ],
   "source": [
    "df.isnull().sum()"
   ]
  },
  {
   "cell_type": "code",
   "execution_count": 5,
   "metadata": {},
   "outputs": [],
   "source": [
    "df.drop(\"Object Name\", axis=1, inplace=True)"
   ]
  },
  {
   "cell_type": "code",
   "execution_count": 6,
   "metadata": {},
   "outputs": [
    {
     "data": {
      "text/html": [
       "<div>\n",
       "<style scoped>\n",
       "    .dataframe tbody tr th:only-of-type {\n",
       "        vertical-align: middle;\n",
       "    }\n",
       "\n",
       "    .dataframe tbody tr th {\n",
       "        vertical-align: top;\n",
       "    }\n",
       "\n",
       "    .dataframe thead th {\n",
       "        text-align: right;\n",
       "    }\n",
       "</style>\n",
       "<table border=\"1\" class=\"dataframe\">\n",
       "  <thead>\n",
       "    <tr style=\"text-align: right;\">\n",
       "      <th></th>\n",
       "      <th>Period Start</th>\n",
       "      <th>Period End</th>\n",
       "      <th>Possible Impacts</th>\n",
       "      <th>Cumulative Impact Probability</th>\n",
       "      <th>Asteroid Velocity</th>\n",
       "      <th>Asteroid Magnitude</th>\n",
       "      <th>Asteroid Diameter (km)</th>\n",
       "      <th>Cumulative Palermo Scale</th>\n",
       "      <th>Maximum Palermo Scale</th>\n",
       "      <th>Maximum Torino Scale</th>\n",
       "    </tr>\n",
       "  </thead>\n",
       "  <tbody>\n",
       "    <tr>\n",
       "      <th>0</th>\n",
       "      <td>2017</td>\n",
       "      <td>2017</td>\n",
       "      <td>1</td>\n",
       "      <td>5.200000e-09</td>\n",
       "      <td>17.77</td>\n",
       "      <td>28.3</td>\n",
       "      <td>0.007</td>\n",
       "      <td>-8.31</td>\n",
       "      <td>-8.31</td>\n",
       "      <td>0</td>\n",
       "    </tr>\n",
       "    <tr>\n",
       "      <th>1</th>\n",
       "      <td>2017</td>\n",
       "      <td>2046</td>\n",
       "      <td>23</td>\n",
       "      <td>7.600000e-05</td>\n",
       "      <td>8.98</td>\n",
       "      <td>31.4</td>\n",
       "      <td>0.002</td>\n",
       "      <td>-6.60</td>\n",
       "      <td>-6.96</td>\n",
       "      <td>0</td>\n",
       "    </tr>\n",
       "    <tr>\n",
       "      <th>2</th>\n",
       "      <td>2017</td>\n",
       "      <td>2062</td>\n",
       "      <td>30</td>\n",
       "      <td>1.600000e-05</td>\n",
       "      <td>18.33</td>\n",
       "      <td>31.4</td>\n",
       "      <td>0.002</td>\n",
       "      <td>-6.48</td>\n",
       "      <td>-6.87</td>\n",
       "      <td>0</td>\n",
       "    </tr>\n",
       "    <tr>\n",
       "      <th>3</th>\n",
       "      <td>2017</td>\n",
       "      <td>2076</td>\n",
       "      <td>24</td>\n",
       "      <td>2.000000e-07</td>\n",
       "      <td>4.99</td>\n",
       "      <td>26.7</td>\n",
       "      <td>0.016</td>\n",
       "      <td>-6.83</td>\n",
       "      <td>-6.95</td>\n",
       "      <td>0</td>\n",
       "    </tr>\n",
       "    <tr>\n",
       "      <th>4</th>\n",
       "      <td>2017</td>\n",
       "      <td>2096</td>\n",
       "      <td>85</td>\n",
       "      <td>2.300000e-08</td>\n",
       "      <td>19.46</td>\n",
       "      <td>19.2</td>\n",
       "      <td>0.497</td>\n",
       "      <td>-3.85</td>\n",
       "      <td>-4.30</td>\n",
       "      <td>0</td>\n",
       "    </tr>\n",
       "    <tr>\n",
       "      <th>...</th>\n",
       "      <td>...</td>\n",
       "      <td>...</td>\n",
       "      <td>...</td>\n",
       "      <td>...</td>\n",
       "      <td>...</td>\n",
       "      <td>...</td>\n",
       "      <td>...</td>\n",
       "      <td>...</td>\n",
       "      <td>...</td>\n",
       "      <td>...</td>\n",
       "    </tr>\n",
       "    <tr>\n",
       "      <th>678</th>\n",
       "      <td>2115</td>\n",
       "      <td>2115</td>\n",
       "      <td>1</td>\n",
       "      <td>2.800000e-07</td>\n",
       "      <td>15.00</td>\n",
       "      <td>28.0</td>\n",
       "      <td>0.008</td>\n",
       "      <td>-8.22</td>\n",
       "      <td>-8.22</td>\n",
       "      <td>0</td>\n",
       "    </tr>\n",
       "    <tr>\n",
       "      <th>679</th>\n",
       "      <td>2115</td>\n",
       "      <td>2115</td>\n",
       "      <td>1</td>\n",
       "      <td>2.300000e-08</td>\n",
       "      <td>3.27</td>\n",
       "      <td>29.2</td>\n",
       "      <td>0.005</td>\n",
       "      <td>-10.18</td>\n",
       "      <td>-10.20</td>\n",
       "      <td>0</td>\n",
       "    </tr>\n",
       "    <tr>\n",
       "      <th>680</th>\n",
       "      <td>2175</td>\n",
       "      <td>2199</td>\n",
       "      <td>78</td>\n",
       "      <td>3.700000e-04</td>\n",
       "      <td>5.99</td>\n",
       "      <td>20.2</td>\n",
       "      <td>0.490</td>\n",
       "      <td>-1.71</td>\n",
       "      <td>-2.32</td>\n",
       "      <td>(*)</td>\n",
       "    </tr>\n",
       "    <tr>\n",
       "      <th>681</th>\n",
       "      <td>2185</td>\n",
       "      <td>2198</td>\n",
       "      <td>7</td>\n",
       "      <td>1.600000e-03</td>\n",
       "      <td>15.87</td>\n",
       "      <td>22.1</td>\n",
       "      <td>0.160</td>\n",
       "      <td>-1.78</td>\n",
       "      <td>-1.83</td>\n",
       "      <td>(*)</td>\n",
       "    </tr>\n",
       "    <tr>\n",
       "      <th>682</th>\n",
       "      <td>2880</td>\n",
       "      <td>2880</td>\n",
       "      <td>1</td>\n",
       "      <td>1.200000e-04</td>\n",
       "      <td>14.10</td>\n",
       "      <td>17.6</td>\n",
       "      <td>1.300</td>\n",
       "      <td>-1.42</td>\n",
       "      <td>-1.42</td>\n",
       "      <td>(*)</td>\n",
       "    </tr>\n",
       "  </tbody>\n",
       "</table>\n",
       "<p>683 rows × 10 columns</p>\n",
       "</div>"
      ],
      "text/plain": [
       "     Period Start  Period End  Possible Impacts  \\\n",
       "0            2017        2017                 1   \n",
       "1            2017        2046                23   \n",
       "2            2017        2062                30   \n",
       "3            2017        2076                24   \n",
       "4            2017        2096                85   \n",
       "..            ...         ...               ...   \n",
       "678          2115        2115                 1   \n",
       "679          2115        2115                 1   \n",
       "680          2175        2199                78   \n",
       "681          2185        2198                 7   \n",
       "682          2880        2880                 1   \n",
       "\n",
       "     Cumulative Impact Probability  Asteroid Velocity  Asteroid Magnitude  \\\n",
       "0                     5.200000e-09              17.77                28.3   \n",
       "1                     7.600000e-05               8.98                31.4   \n",
       "2                     1.600000e-05              18.33                31.4   \n",
       "3                     2.000000e-07               4.99                26.7   \n",
       "4                     2.300000e-08              19.46                19.2   \n",
       "..                             ...                ...                 ...   \n",
       "678                   2.800000e-07              15.00                28.0   \n",
       "679                   2.300000e-08               3.27                29.2   \n",
       "680                   3.700000e-04               5.99                20.2   \n",
       "681                   1.600000e-03              15.87                22.1   \n",
       "682                   1.200000e-04              14.10                17.6   \n",
       "\n",
       "     Asteroid Diameter (km)  Cumulative Palermo Scale  Maximum Palermo Scale  \\\n",
       "0                     0.007                     -8.31                  -8.31   \n",
       "1                     0.002                     -6.60                  -6.96   \n",
       "2                     0.002                     -6.48                  -6.87   \n",
       "3                     0.016                     -6.83                  -6.95   \n",
       "4                     0.497                     -3.85                  -4.30   \n",
       "..                      ...                       ...                    ...   \n",
       "678                   0.008                     -8.22                  -8.22   \n",
       "679                   0.005                    -10.18                 -10.20   \n",
       "680                   0.490                     -1.71                  -2.32   \n",
       "681                   0.160                     -1.78                  -1.83   \n",
       "682                   1.300                     -1.42                  -1.42   \n",
       "\n",
       "    Maximum Torino Scale  \n",
       "0                      0  \n",
       "1                      0  \n",
       "2                      0  \n",
       "3                      0  \n",
       "4                      0  \n",
       "..                   ...  \n",
       "678                    0  \n",
       "679                    0  \n",
       "680                  (*)  \n",
       "681                  (*)  \n",
       "682                  (*)  \n",
       "\n",
       "[683 rows x 10 columns]"
      ]
     },
     "execution_count": 6,
     "metadata": {},
     "output_type": "execute_result"
    }
   ],
   "source": [
    "df"
   ]
  },
  {
   "cell_type": "code",
   "execution_count": 8,
   "metadata": {},
   "outputs": [
    {
     "name": "stdout",
     "output_type": "stream",
     "text": [
      "0    2017\n",
      "1    2017\n",
      "2    2017\n",
      "3    2017\n",
      "4    2017\n",
      "Name: Period Start, dtype: int64\n"
     ]
    }
   ],
   "source": [
    "print(df['Period Start'].head())"
   ]
  },
  {
   "cell_type": "code",
   "execution_count": 9,
   "metadata": {},
   "outputs": [
    {
     "name": "stdout",
     "output_type": "stream",
     "text": [
      "0    2017\n",
      "1    2046\n",
      "2    2062\n",
      "3    2076\n",
      "4    2096\n",
      "Name: Period End, dtype: int64\n"
     ]
    }
   ],
   "source": [
    "print(df['Period End'].head())"
   ]
  },
  {
   "cell_type": "code",
   "execution_count": 10,
   "metadata": {},
   "outputs": [
    {
     "name": "stdout",
     "output_type": "stream",
     "text": [
      "0     1\n",
      "1    23\n",
      "2    30\n",
      "3    24\n",
      "4    85\n",
      "Name: Possible Impacts, dtype: int64\n"
     ]
    }
   ],
   "source": [
    "print(df['Possible Impacts'].head())"
   ]
  },
  {
   "cell_type": "code",
   "execution_count": 12,
   "metadata": {},
   "outputs": [
    {
     "name": "stdout",
     "output_type": "stream",
     "text": [
      "0    5.200000e-09\n",
      "1    7.600000e-05\n",
      "2    1.600000e-05\n",
      "3    2.000000e-07\n",
      "4    2.300000e-08\n",
      "Name: Cumulative Impact Probability, dtype: float64\n"
     ]
    }
   ],
   "source": [
    "print(df['Cumulative Impact Probability'].head())"
   ]
  },
  {
   "cell_type": "code",
   "execution_count": 14,
   "metadata": {},
   "outputs": [
    {
     "name": "stdout",
     "output_type": "stream",
     "text": [
      "0    17.77\n",
      "1     8.98\n",
      "2    18.33\n",
      "3     4.99\n",
      "4    19.46\n",
      "Name: Asteroid Velocity, dtype: float64\n"
     ]
    }
   ],
   "source": [
    "print(df['Asteroid Velocity'].head())"
   ]
  },
  {
   "cell_type": "code",
   "execution_count": 17,
   "metadata": {},
   "outputs": [
    {
     "name": "stdout",
     "output_type": "stream",
     "text": [
      "0    28.3\n",
      "1    31.4\n",
      "2    31.4\n",
      "3    26.7\n",
      "4    19.2\n",
      "Name: Asteroid Magnitude, dtype: float64\n"
     ]
    }
   ],
   "source": [
    "print(df['Asteroid Magnitude'].head())"
   ]
  },
  {
   "cell_type": "code",
   "execution_count": 19,
   "metadata": {},
   "outputs": [
    {
     "name": "stdout",
     "output_type": "stream",
     "text": [
      "0    0.007\n",
      "1    0.002\n",
      "2    0.002\n",
      "3    0.016\n",
      "4    0.497\n",
      "Name: Asteroid Diameter (km), dtype: float64\n"
     ]
    }
   ],
   "source": [
    "print(df['Asteroid Diameter (km)'].head())"
   ]
  },
  {
   "cell_type": "code",
   "execution_count": 20,
   "metadata": {},
   "outputs": [
    {
     "name": "stdout",
     "output_type": "stream",
     "text": [
      "0   -8.31\n",
      "1   -6.60\n",
      "2   -6.48\n",
      "3   -6.83\n",
      "4   -3.85\n",
      "Name: Cumulative Palermo Scale, dtype: float64\n"
     ]
    }
   ],
   "source": [
    "print(df['Cumulative Palermo Scale'].head())"
   ]
  },
  {
   "cell_type": "code",
   "execution_count": 21,
   "metadata": {},
   "outputs": [
    {
     "name": "stdout",
     "output_type": "stream",
     "text": [
      "0   -8.31\n",
      "1   -6.96\n",
      "2   -6.87\n",
      "3   -6.95\n",
      "4   -4.30\n",
      "Name: Maximum Palermo Scale, dtype: float64\n"
     ]
    }
   ],
   "source": [
    "print(df['Maximum Palermo Scale'].head())"
   ]
  },
  {
   "cell_type": "code",
   "execution_count": 22,
   "metadata": {},
   "outputs": [
    {
     "name": "stdout",
     "output_type": "stream",
     "text": [
      "0    0\n",
      "1    0\n",
      "2    0\n",
      "3    0\n",
      "4    0\n",
      "Name: Maximum Torino Scale, dtype: object\n"
     ]
    }
   ],
   "source": [
    "print(df['Maximum Torino Scale'].head())"
   ]
  },
  {
   "cell_type": "code",
   "execution_count": 24,
   "metadata": {},
   "outputs": [],
   "source": [
    "df.drop([682, 681, 680], inplace=True )"
   ]
  },
  {
   "cell_type": "code",
   "execution_count": 25,
   "metadata": {},
   "outputs": [
    {
     "data": {
      "text/html": [
       "<div>\n",
       "<style scoped>\n",
       "    .dataframe tbody tr th:only-of-type {\n",
       "        vertical-align: middle;\n",
       "    }\n",
       "\n",
       "    .dataframe tbody tr th {\n",
       "        vertical-align: top;\n",
       "    }\n",
       "\n",
       "    .dataframe thead th {\n",
       "        text-align: right;\n",
       "    }\n",
       "</style>\n",
       "<table border=\"1\" class=\"dataframe\">\n",
       "  <thead>\n",
       "    <tr style=\"text-align: right;\">\n",
       "      <th></th>\n",
       "      <th>Period Start</th>\n",
       "      <th>Period End</th>\n",
       "      <th>Possible Impacts</th>\n",
       "      <th>Cumulative Impact Probability</th>\n",
       "      <th>Asteroid Velocity</th>\n",
       "      <th>Asteroid Magnitude</th>\n",
       "      <th>Asteroid Diameter (km)</th>\n",
       "      <th>Cumulative Palermo Scale</th>\n",
       "      <th>Maximum Palermo Scale</th>\n",
       "      <th>Maximum Torino Scale</th>\n",
       "    </tr>\n",
       "  </thead>\n",
       "  <tbody>\n",
       "    <tr>\n",
       "      <th>0</th>\n",
       "      <td>2017</td>\n",
       "      <td>2017</td>\n",
       "      <td>1</td>\n",
       "      <td>5.200000e-09</td>\n",
       "      <td>17.77</td>\n",
       "      <td>28.3</td>\n",
       "      <td>0.007</td>\n",
       "      <td>-8.31</td>\n",
       "      <td>-8.31</td>\n",
       "      <td>0</td>\n",
       "    </tr>\n",
       "    <tr>\n",
       "      <th>1</th>\n",
       "      <td>2017</td>\n",
       "      <td>2046</td>\n",
       "      <td>23</td>\n",
       "      <td>7.600000e-05</td>\n",
       "      <td>8.98</td>\n",
       "      <td>31.4</td>\n",
       "      <td>0.002</td>\n",
       "      <td>-6.60</td>\n",
       "      <td>-6.96</td>\n",
       "      <td>0</td>\n",
       "    </tr>\n",
       "    <tr>\n",
       "      <th>2</th>\n",
       "      <td>2017</td>\n",
       "      <td>2062</td>\n",
       "      <td>30</td>\n",
       "      <td>1.600000e-05</td>\n",
       "      <td>18.33</td>\n",
       "      <td>31.4</td>\n",
       "      <td>0.002</td>\n",
       "      <td>-6.48</td>\n",
       "      <td>-6.87</td>\n",
       "      <td>0</td>\n",
       "    </tr>\n",
       "    <tr>\n",
       "      <th>3</th>\n",
       "      <td>2017</td>\n",
       "      <td>2076</td>\n",
       "      <td>24</td>\n",
       "      <td>2.000000e-07</td>\n",
       "      <td>4.99</td>\n",
       "      <td>26.7</td>\n",
       "      <td>0.016</td>\n",
       "      <td>-6.83</td>\n",
       "      <td>-6.95</td>\n",
       "      <td>0</td>\n",
       "    </tr>\n",
       "    <tr>\n",
       "      <th>4</th>\n",
       "      <td>2017</td>\n",
       "      <td>2096</td>\n",
       "      <td>85</td>\n",
       "      <td>2.300000e-08</td>\n",
       "      <td>19.46</td>\n",
       "      <td>19.2</td>\n",
       "      <td>0.497</td>\n",
       "      <td>-3.85</td>\n",
       "      <td>-4.30</td>\n",
       "      <td>0</td>\n",
       "    </tr>\n",
       "    <tr>\n",
       "      <th>...</th>\n",
       "      <td>...</td>\n",
       "      <td>...</td>\n",
       "      <td>...</td>\n",
       "      <td>...</td>\n",
       "      <td>...</td>\n",
       "      <td>...</td>\n",
       "      <td>...</td>\n",
       "      <td>...</td>\n",
       "      <td>...</td>\n",
       "      <td>...</td>\n",
       "    </tr>\n",
       "    <tr>\n",
       "      <th>675</th>\n",
       "      <td>2114</td>\n",
       "      <td>2114</td>\n",
       "      <td>1</td>\n",
       "      <td>2.000000e-05</td>\n",
       "      <td>11.06</td>\n",
       "      <td>25.9</td>\n",
       "      <td>0.023</td>\n",
       "      <td>-5.44</td>\n",
       "      <td>-5.44</td>\n",
       "      <td>0</td>\n",
       "    </tr>\n",
       "    <tr>\n",
       "      <th>676</th>\n",
       "      <td>2114</td>\n",
       "      <td>2114</td>\n",
       "      <td>1</td>\n",
       "      <td>2.600000e-06</td>\n",
       "      <td>6.70</td>\n",
       "      <td>25.4</td>\n",
       "      <td>0.028</td>\n",
       "      <td>-6.25</td>\n",
       "      <td>-6.25</td>\n",
       "      <td>0</td>\n",
       "    </tr>\n",
       "    <tr>\n",
       "      <th>677</th>\n",
       "      <td>2115</td>\n",
       "      <td>2115</td>\n",
       "      <td>1</td>\n",
       "      <td>3.400000e-08</td>\n",
       "      <td>9.56</td>\n",
       "      <td>25.7</td>\n",
       "      <td>0.025</td>\n",
       "      <td>-8.15</td>\n",
       "      <td>-8.15</td>\n",
       "      <td>0</td>\n",
       "    </tr>\n",
       "    <tr>\n",
       "      <th>678</th>\n",
       "      <td>2115</td>\n",
       "      <td>2115</td>\n",
       "      <td>1</td>\n",
       "      <td>2.800000e-07</td>\n",
       "      <td>15.00</td>\n",
       "      <td>28.0</td>\n",
       "      <td>0.008</td>\n",
       "      <td>-8.22</td>\n",
       "      <td>-8.22</td>\n",
       "      <td>0</td>\n",
       "    </tr>\n",
       "    <tr>\n",
       "      <th>679</th>\n",
       "      <td>2115</td>\n",
       "      <td>2115</td>\n",
       "      <td>1</td>\n",
       "      <td>2.300000e-08</td>\n",
       "      <td>3.27</td>\n",
       "      <td>29.2</td>\n",
       "      <td>0.005</td>\n",
       "      <td>-10.18</td>\n",
       "      <td>-10.20</td>\n",
       "      <td>0</td>\n",
       "    </tr>\n",
       "  </tbody>\n",
       "</table>\n",
       "<p>680 rows × 10 columns</p>\n",
       "</div>"
      ],
      "text/plain": [
       "     Period Start  Period End  Possible Impacts  \\\n",
       "0            2017        2017                 1   \n",
       "1            2017        2046                23   \n",
       "2            2017        2062                30   \n",
       "3            2017        2076                24   \n",
       "4            2017        2096                85   \n",
       "..            ...         ...               ...   \n",
       "675          2114        2114                 1   \n",
       "676          2114        2114                 1   \n",
       "677          2115        2115                 1   \n",
       "678          2115        2115                 1   \n",
       "679          2115        2115                 1   \n",
       "\n",
       "     Cumulative Impact Probability  Asteroid Velocity  Asteroid Magnitude  \\\n",
       "0                     5.200000e-09              17.77                28.3   \n",
       "1                     7.600000e-05               8.98                31.4   \n",
       "2                     1.600000e-05              18.33                31.4   \n",
       "3                     2.000000e-07               4.99                26.7   \n",
       "4                     2.300000e-08              19.46                19.2   \n",
       "..                             ...                ...                 ...   \n",
       "675                   2.000000e-05              11.06                25.9   \n",
       "676                   2.600000e-06               6.70                25.4   \n",
       "677                   3.400000e-08               9.56                25.7   \n",
       "678                   2.800000e-07              15.00                28.0   \n",
       "679                   2.300000e-08               3.27                29.2   \n",
       "\n",
       "     Asteroid Diameter (km)  Cumulative Palermo Scale  Maximum Palermo Scale  \\\n",
       "0                     0.007                     -8.31                  -8.31   \n",
       "1                     0.002                     -6.60                  -6.96   \n",
       "2                     0.002                     -6.48                  -6.87   \n",
       "3                     0.016                     -6.83                  -6.95   \n",
       "4                     0.497                     -3.85                  -4.30   \n",
       "..                      ...                       ...                    ...   \n",
       "675                   0.023                     -5.44                  -5.44   \n",
       "676                   0.028                     -6.25                  -6.25   \n",
       "677                   0.025                     -8.15                  -8.15   \n",
       "678                   0.008                     -8.22                  -8.22   \n",
       "679                   0.005                    -10.18                 -10.20   \n",
       "\n",
       "    Maximum Torino Scale  \n",
       "0                      0  \n",
       "1                      0  \n",
       "2                      0  \n",
       "3                      0  \n",
       "4                      0  \n",
       "..                   ...  \n",
       "675                    0  \n",
       "676                    0  \n",
       "677                    0  \n",
       "678                    0  \n",
       "679                    0  \n",
       "\n",
       "[680 rows x 10 columns]"
      ]
     },
     "execution_count": 25,
     "metadata": {},
     "output_type": "execute_result"
    }
   ],
   "source": [
    "df"
   ]
  },
  {
   "cell_type": "code",
   "execution_count": 26,
   "metadata": {},
   "outputs": [
    {
     "name": "stdout",
     "output_type": "stream",
     "text": [
      "0    0\n",
      "1    0\n",
      "2    0\n",
      "3    0\n",
      "4    0\n",
      "Name: Maximum Torino Scale, dtype: object\n"
     ]
    }
   ],
   "source": [
    "print(df['Maximum Torino Scale'].head())"
   ]
  },
  {
   "cell_type": "markdown",
   "metadata": {},
   "source": [
    "since all of the values of the colomn Maximum Torino Scale are 0 , we are going to delete it "
   ]
  },
  {
   "cell_type": "code",
   "execution_count": 27,
   "metadata": {},
   "outputs": [],
   "source": [
    "df.drop(\"Maximum Torino Scale\", axis=1, inplace=True)"
   ]
  },
  {
   "cell_type": "code",
   "execution_count": 28,
   "metadata": {},
   "outputs": [
    {
     "data": {
      "text/html": [
       "<div>\n",
       "<style scoped>\n",
       "    .dataframe tbody tr th:only-of-type {\n",
       "        vertical-align: middle;\n",
       "    }\n",
       "\n",
       "    .dataframe tbody tr th {\n",
       "        vertical-align: top;\n",
       "    }\n",
       "\n",
       "    .dataframe thead th {\n",
       "        text-align: right;\n",
       "    }\n",
       "</style>\n",
       "<table border=\"1\" class=\"dataframe\">\n",
       "  <thead>\n",
       "    <tr style=\"text-align: right;\">\n",
       "      <th></th>\n",
       "      <th>Period Start</th>\n",
       "      <th>Period End</th>\n",
       "      <th>Possible Impacts</th>\n",
       "      <th>Cumulative Impact Probability</th>\n",
       "      <th>Asteroid Velocity</th>\n",
       "      <th>Asteroid Magnitude</th>\n",
       "      <th>Asteroid Diameter (km)</th>\n",
       "      <th>Cumulative Palermo Scale</th>\n",
       "      <th>Maximum Palermo Scale</th>\n",
       "    </tr>\n",
       "  </thead>\n",
       "  <tbody>\n",
       "    <tr>\n",
       "      <th>0</th>\n",
       "      <td>2017</td>\n",
       "      <td>2017</td>\n",
       "      <td>1</td>\n",
       "      <td>5.200000e-09</td>\n",
       "      <td>17.77</td>\n",
       "      <td>28.3</td>\n",
       "      <td>0.007</td>\n",
       "      <td>-8.31</td>\n",
       "      <td>-8.31</td>\n",
       "    </tr>\n",
       "    <tr>\n",
       "      <th>1</th>\n",
       "      <td>2017</td>\n",
       "      <td>2046</td>\n",
       "      <td>23</td>\n",
       "      <td>7.600000e-05</td>\n",
       "      <td>8.98</td>\n",
       "      <td>31.4</td>\n",
       "      <td>0.002</td>\n",
       "      <td>-6.60</td>\n",
       "      <td>-6.96</td>\n",
       "    </tr>\n",
       "    <tr>\n",
       "      <th>2</th>\n",
       "      <td>2017</td>\n",
       "      <td>2062</td>\n",
       "      <td>30</td>\n",
       "      <td>1.600000e-05</td>\n",
       "      <td>18.33</td>\n",
       "      <td>31.4</td>\n",
       "      <td>0.002</td>\n",
       "      <td>-6.48</td>\n",
       "      <td>-6.87</td>\n",
       "    </tr>\n",
       "    <tr>\n",
       "      <th>3</th>\n",
       "      <td>2017</td>\n",
       "      <td>2076</td>\n",
       "      <td>24</td>\n",
       "      <td>2.000000e-07</td>\n",
       "      <td>4.99</td>\n",
       "      <td>26.7</td>\n",
       "      <td>0.016</td>\n",
       "      <td>-6.83</td>\n",
       "      <td>-6.95</td>\n",
       "    </tr>\n",
       "    <tr>\n",
       "      <th>4</th>\n",
       "      <td>2017</td>\n",
       "      <td>2096</td>\n",
       "      <td>85</td>\n",
       "      <td>2.300000e-08</td>\n",
       "      <td>19.46</td>\n",
       "      <td>19.2</td>\n",
       "      <td>0.497</td>\n",
       "      <td>-3.85</td>\n",
       "      <td>-4.30</td>\n",
       "    </tr>\n",
       "    <tr>\n",
       "      <th>...</th>\n",
       "      <td>...</td>\n",
       "      <td>...</td>\n",
       "      <td>...</td>\n",
       "      <td>...</td>\n",
       "      <td>...</td>\n",
       "      <td>...</td>\n",
       "      <td>...</td>\n",
       "      <td>...</td>\n",
       "      <td>...</td>\n",
       "    </tr>\n",
       "    <tr>\n",
       "      <th>675</th>\n",
       "      <td>2114</td>\n",
       "      <td>2114</td>\n",
       "      <td>1</td>\n",
       "      <td>2.000000e-05</td>\n",
       "      <td>11.06</td>\n",
       "      <td>25.9</td>\n",
       "      <td>0.023</td>\n",
       "      <td>-5.44</td>\n",
       "      <td>-5.44</td>\n",
       "    </tr>\n",
       "    <tr>\n",
       "      <th>676</th>\n",
       "      <td>2114</td>\n",
       "      <td>2114</td>\n",
       "      <td>1</td>\n",
       "      <td>2.600000e-06</td>\n",
       "      <td>6.70</td>\n",
       "      <td>25.4</td>\n",
       "      <td>0.028</td>\n",
       "      <td>-6.25</td>\n",
       "      <td>-6.25</td>\n",
       "    </tr>\n",
       "    <tr>\n",
       "      <th>677</th>\n",
       "      <td>2115</td>\n",
       "      <td>2115</td>\n",
       "      <td>1</td>\n",
       "      <td>3.400000e-08</td>\n",
       "      <td>9.56</td>\n",
       "      <td>25.7</td>\n",
       "      <td>0.025</td>\n",
       "      <td>-8.15</td>\n",
       "      <td>-8.15</td>\n",
       "    </tr>\n",
       "    <tr>\n",
       "      <th>678</th>\n",
       "      <td>2115</td>\n",
       "      <td>2115</td>\n",
       "      <td>1</td>\n",
       "      <td>2.800000e-07</td>\n",
       "      <td>15.00</td>\n",
       "      <td>28.0</td>\n",
       "      <td>0.008</td>\n",
       "      <td>-8.22</td>\n",
       "      <td>-8.22</td>\n",
       "    </tr>\n",
       "    <tr>\n",
       "      <th>679</th>\n",
       "      <td>2115</td>\n",
       "      <td>2115</td>\n",
       "      <td>1</td>\n",
       "      <td>2.300000e-08</td>\n",
       "      <td>3.27</td>\n",
       "      <td>29.2</td>\n",
       "      <td>0.005</td>\n",
       "      <td>-10.18</td>\n",
       "      <td>-10.20</td>\n",
       "    </tr>\n",
       "  </tbody>\n",
       "</table>\n",
       "<p>680 rows × 9 columns</p>\n",
       "</div>"
      ],
      "text/plain": [
       "     Period Start  Period End  Possible Impacts  \\\n",
       "0            2017        2017                 1   \n",
       "1            2017        2046                23   \n",
       "2            2017        2062                30   \n",
       "3            2017        2076                24   \n",
       "4            2017        2096                85   \n",
       "..            ...         ...               ...   \n",
       "675          2114        2114                 1   \n",
       "676          2114        2114                 1   \n",
       "677          2115        2115                 1   \n",
       "678          2115        2115                 1   \n",
       "679          2115        2115                 1   \n",
       "\n",
       "     Cumulative Impact Probability  Asteroid Velocity  Asteroid Magnitude  \\\n",
       "0                     5.200000e-09              17.77                28.3   \n",
       "1                     7.600000e-05               8.98                31.4   \n",
       "2                     1.600000e-05              18.33                31.4   \n",
       "3                     2.000000e-07               4.99                26.7   \n",
       "4                     2.300000e-08              19.46                19.2   \n",
       "..                             ...                ...                 ...   \n",
       "675                   2.000000e-05              11.06                25.9   \n",
       "676                   2.600000e-06               6.70                25.4   \n",
       "677                   3.400000e-08               9.56                25.7   \n",
       "678                   2.800000e-07              15.00                28.0   \n",
       "679                   2.300000e-08               3.27                29.2   \n",
       "\n",
       "     Asteroid Diameter (km)  Cumulative Palermo Scale  Maximum Palermo Scale  \n",
       "0                     0.007                     -8.31                  -8.31  \n",
       "1                     0.002                     -6.60                  -6.96  \n",
       "2                     0.002                     -6.48                  -6.87  \n",
       "3                     0.016                     -6.83                  -6.95  \n",
       "4                     0.497                     -3.85                  -4.30  \n",
       "..                      ...                       ...                    ...  \n",
       "675                   0.023                     -5.44                  -5.44  \n",
       "676                   0.028                     -6.25                  -6.25  \n",
       "677                   0.025                     -8.15                  -8.15  \n",
       "678                   0.008                     -8.22                  -8.22  \n",
       "679                   0.005                    -10.18                 -10.20  \n",
       "\n",
       "[680 rows x 9 columns]"
      ]
     },
     "execution_count": 28,
     "metadata": {},
     "output_type": "execute_result"
    }
   ],
   "source": [
    "df"
   ]
  },
  {
   "cell_type": "markdown",
   "metadata": {},
   "source": [
    "# 4 some visualisation"
   ]
  },
  {
   "cell_type": "code",
   "execution_count": 32,
   "metadata": {},
   "outputs": [
    {
     "data": {
      "image/png": "[encoded data removed]",
      "text/plain": [
       "<Figure size 864x720 with 2 Axes>"
      ]
     },
     "metadata": {
      "needs_background": "light"
     },
     "output_type": "display_data"
    }
   ],
   "source": [
    "import matplotlib.pyplot as plt\n",
    "import seaborn as sns\n",
    "def plot_correlation_map( df ):\n",
    "\n",
    "    corr = df.corr()\n",
    "\n",
    "    s , ax = plt.subplots( figsize =( 12 , 10 ) )\n",
    "\n",
    "    cmap = sns.diverging_palette( 220 , 10 , as_cmap = True )\n",
    "\n",
    "    s = sns.heatmap(\n",
    "\n",
    "        corr, \n",
    "\n",
    "        cmap = cmap,\n",
    "\n",
    "        square=True, \n",
    "\n",
    "        cbar_kws={ 'shrink' : .9 }, \n",
    "\n",
    "        ax=ax, \n",
    "\n",
    "        annot = True, \n",
    "\n",
    "        annot_kws = { 'fontsize' : 12 }\n",
    "\n",
    "        )\n",
    "plot_correlation_map(df) "
   ]
  },
  {
   "cell_type": "code",
   "execution_count": 44,
   "metadata": {},
   "outputs": [],
   "source": [
    "df.columns =['Period_Start', 'Period_End','Possible_Impacts','Cumulative_Impact_Probability','Asteroid_Velocity','Asteroid_Magnitude','Asteroid_Diameter_km','Cumulative_Palermo_Scale','Maximum_Palermo_Scale'] "
   ]
  },
  {
   "cell_type": "code",
   "execution_count": 45,
   "metadata": {},
   "outputs": [
    {
     "data": {
      "text/html": [
       "<div>\n",
       "<style scoped>\n",
       "    .dataframe tbody tr th:only-of-type {\n",
       "        vertical-align: middle;\n",
       "    }\n",
       "\n",
       "    .dataframe tbody tr th {\n",
       "        vertical-align: top;\n",
       "    }\n",
       "\n",
       "    .dataframe thead th {\n",
       "        text-align: right;\n",
       "    }\n",
       "</style>\n",
       "<table border=\"1\" class=\"dataframe\">\n",
       "  <thead>\n",
       "    <tr style=\"text-align: right;\">\n",
       "      <th></th>\n",
       "      <th>Period_Start</th>\n",
       "      <th>Period_End</th>\n",
       "      <th>Possible_Impacts</th>\n",
       "      <th>Cumulative_Impact_Probability</th>\n",
       "      <th>Asteroid_Velocity</th>\n",
       "      <th>Asteroid_Magnitude</th>\n",
       "      <th>Asteroid_Diameter_km</th>\n",
       "      <th>Cumulative_Palermo_Scale</th>\n",
       "      <th>Maximum_Palermo_Scale</th>\n",
       "    </tr>\n",
       "  </thead>\n",
       "  <tbody>\n",
       "    <tr>\n",
       "      <th>0</th>\n",
       "      <td>2017</td>\n",
       "      <td>2017</td>\n",
       "      <td>1</td>\n",
       "      <td>5.200000e-09</td>\n",
       "      <td>17.77</td>\n",
       "      <td>28.3</td>\n",
       "      <td>0.007</td>\n",
       "      <td>-8.31</td>\n",
       "      <td>-8.31</td>\n",
       "    </tr>\n",
       "    <tr>\n",
       "      <th>1</th>\n",
       "      <td>2017</td>\n",
       "      <td>2046</td>\n",
       "      <td>23</td>\n",
       "      <td>7.600000e-05</td>\n",
       "      <td>8.98</td>\n",
       "      <td>31.4</td>\n",
       "      <td>0.002</td>\n",
       "      <td>-6.60</td>\n",
       "      <td>-6.96</td>\n",
       "    </tr>\n",
       "    <tr>\n",
       "      <th>2</th>\n",
       "      <td>2017</td>\n",
       "      <td>2062</td>\n",
       "      <td>30</td>\n",
       "      <td>1.600000e-05</td>\n",
       "      <td>18.33</td>\n",
       "      <td>31.4</td>\n",
       "      <td>0.002</td>\n",
       "      <td>-6.48</td>\n",
       "      <td>-6.87</td>\n",
       "    </tr>\n",
       "    <tr>\n",
       "      <th>3</th>\n",
       "      <td>2017</td>\n",
       "      <td>2076</td>\n",
       "      <td>24</td>\n",
       "      <td>2.000000e-07</td>\n",
       "      <td>4.99</td>\n",
       "      <td>26.7</td>\n",
       "      <td>0.016</td>\n",
       "      <td>-6.83</td>\n",
       "      <td>-6.95</td>\n",
       "    </tr>\n",
       "    <tr>\n",
       "      <th>4</th>\n",
       "      <td>2017</td>\n",
       "      <td>2096</td>\n",
       "      <td>85</td>\n",
       "      <td>2.300000e-08</td>\n",
       "      <td>19.46</td>\n",
       "      <td>19.2</td>\n",
       "      <td>0.497</td>\n",
       "      <td>-3.85</td>\n",
       "      <td>-4.30</td>\n",
       "    </tr>\n",
       "    <tr>\n",
       "      <th>...</th>\n",
       "      <td>...</td>\n",
       "      <td>...</td>\n",
       "      <td>...</td>\n",
       "      <td>...</td>\n",
       "      <td>...</td>\n",
       "      <td>...</td>\n",
       "      <td>...</td>\n",
       "      <td>...</td>\n",
       "      <td>...</td>\n",
       "    </tr>\n",
       "    <tr>\n",
       "      <th>675</th>\n",
       "      <td>2114</td>\n",
       "      <td>2114</td>\n",
       "      <td>1</td>\n",
       "      <td>2.000000e-05</td>\n",
       "      <td>11.06</td>\n",
       "      <td>25.9</td>\n",
       "      <td>0.023</td>\n",
       "      <td>-5.44</td>\n",
       "      <td>-5.44</td>\n",
       "    </tr>\n",
       "    <tr>\n",
       "      <th>676</th>\n",
       "      <td>2114</td>\n",
       "      <td>2114</td>\n",
       "      <td>1</td>\n",
       "      <td>2.600000e-06</td>\n",
       "      <td>6.70</td>\n",
       "      <td>25.4</td>\n",
       "      <td>0.028</td>\n",
       "      <td>-6.25</td>\n",
       "      <td>-6.25</td>\n",
       "    </tr>\n",
       "    <tr>\n",
       "      <th>677</th>\n",
       "      <td>2115</td>\n",
       "      <td>2115</td>\n",
       "      <td>1</td>\n",
       "      <td>3.400000e-08</td>\n",
       "      <td>9.56</td>\n",
       "      <td>25.7</td>\n",
       "      <td>0.025</td>\n",
       "      <td>-8.15</td>\n",
       "      <td>-8.15</td>\n",
       "    </tr>\n",
       "    <tr>\n",
       "      <th>678</th>\n",
       "      <td>2115</td>\n",
       "      <td>2115</td>\n",
       "      <td>1</td>\n",
       "      <td>2.800000e-07</td>\n",
       "      <td>15.00</td>\n",
       "      <td>28.0</td>\n",
       "      <td>0.008</td>\n",
       "      <td>-8.22</td>\n",
       "      <td>-8.22</td>\n",
       "    </tr>\n",
       "    <tr>\n",
       "      <th>679</th>\n",
       "      <td>2115</td>\n",
       "      <td>2115</td>\n",
       "      <td>1</td>\n",
       "      <td>2.300000e-08</td>\n",
       "      <td>3.27</td>\n",
       "      <td>29.2</td>\n",
       "      <td>0.005</td>\n",
       "      <td>-10.18</td>\n",
       "      <td>-10.20</td>\n",
       "    </tr>\n",
       "  </tbody>\n",
       "</table>\n",
       "<p>680 rows × 9 columns</p>\n",
       "</div>"
      ],
      "text/plain": [
       "     Period_Start  Period_End  Possible_Impacts  \\\n",
       "0            2017        2017                 1   \n",
       "1            2017        2046                23   \n",
       "2            2017        2062                30   \n",
       "3            2017        2076                24   \n",
       "4            2017        2096                85   \n",
       "..            ...         ...               ...   \n",
       "675          2114        2114                 1   \n",
       "676          2114        2114                 1   \n",
       "677          2115        2115                 1   \n",
       "678          2115        2115                 1   \n",
       "679          2115        2115                 1   \n",
       "\n",
       "     Cumulative_Impact_Probability  Asteroid_Velocity  Asteroid_Magnitude  \\\n",
       "0                     5.200000e-09              17.77                28.3   \n",
       "1                     7.600000e-05               8.98                31.4   \n",
       "2                     1.600000e-05              18.33                31.4   \n",
       "3                     2.000000e-07               4.99                26.7   \n",
       "4                     2.300000e-08              19.46                19.2   \n",
       "..                             ...                ...                 ...   \n",
       "675                   2.000000e-05              11.06                25.9   \n",
       "676                   2.600000e-06               6.70                25.4   \n",
       "677                   3.400000e-08               9.56                25.7   \n",
       "678                   2.800000e-07              15.00                28.0   \n",
       "679                   2.300000e-08               3.27                29.2   \n",
       "\n",
       "     Asteroid_Diameter_km  Cumulative_Palermo_Scale  Maximum_Palermo_Scale  \n",
       "0                   0.007                     -8.31                  -8.31  \n",
       "1                   0.002                     -6.60                  -6.96  \n",
       "2                   0.002                     -6.48                  -6.87  \n",
       "3                   0.016                     -6.83                  -6.95  \n",
       "4                   0.497                     -3.85                  -4.30  \n",
       "..                    ...                       ...                    ...  \n",
       "675                 0.023                     -5.44                  -5.44  \n",
       "676                 0.028                     -6.25                  -6.25  \n",
       "677                 0.025                     -8.15                  -8.15  \n",
       "678                 0.008                     -8.22                  -8.22  \n",
       "679                 0.005                    -10.18                 -10.20  \n",
       "\n",
       "[680 rows x 9 columns]"
      ]
     },
     "execution_count": 45,
     "metadata": {},
     "output_type": "execute_result"
    }
   ],
   "source": [
    "df"
   ]
  },
  {
   "cell_type": "code",
   "execution_count": 46,
   "metadata": {},
   "outputs": [
    {
     "data": {
      "text/plain": [
       "Text(0.5, 1.0, 'Possible_Impacts vs Cumulative_Impact_Probability ')"
      ]
     },
     "execution_count": 46,
     "metadata": {},
     "output_type": "execute_result"
    },
    {
     "data": {
      "image/png": "[encoded data removed]",
      "text/plain": [
       "<Figure size 432x288 with 1 Axes>"
      ]
     },
     "metadata": {
      "needs_background": "light"
     },
     "output_type": "display_data"
    }
   ],
   "source": [
    "plt.scatter(df.Possible_Impacts,df.Cumulative_Impact_Probability)\n",
    "plt.title(\"Possible_Impacts vs Cumulative_Impact_Probability \")"
   ]
  },
  {
   "cell_type": "code",
   "execution_count": 47,
   "metadata": {},
   "outputs": [
    {
     "data": {
      "text/plain": [
       "Text(0.5, 1.0, 'Possible_Impacts vs Asteroid_Velocity')"
      ]
     },
     "execution_count": 47,
     "metadata": {},
     "output_type": "execute_result"
    },
    {
     "data": {
      "image/png": "[encoded data removed]",
      "text/plain": [
       "<Figure size 432x288 with 1 Axes>"
      ]
     },
     "metadata": {
      "needs_background": "light"
     },
     "output_type": "display_data"
    }
   ],
   "source": [
    "plt.scatter(df.Possible_Impacts,df.Asteroid_Velocity)\n",
    "plt.title(\"Possible_Impacts vs Asteroid_Velocity\")"
   ]
  },
  {
   "cell_type": "code",
   "execution_count": 48,
   "metadata": {},
   "outputs": [
    {
     "data": {
      "text/plain": [
       "Text(0.5, 1.0, 'Possible_Impacts vs Asteroid_Magnitude')"
      ]
     },
     "execution_count": 48,
     "metadata": {},
     "output_type": "execute_result"
    },
    {
     "data": {
      "image/png": "[encoded data removed]",
      "text/plain": [
       "<Figure size 432x288 with 1 Axes>"
      ]
     },
     "metadata": {
      "needs_background": "light"
     },
     "output_type": "display_data"
    }
   ],
   "source": [
    "plt.scatter(df.Possible_Impacts,df.Asteroid_Magnitude)\n",
    "plt.title(\"Possible_Impacts vs Asteroid_Magnitude\")"
   ]
  },
  {
   "cell_type": "code",
   "execution_count": 59,
   "metadata": {},
   "outputs": [
    {
     "data": {
      "text/plain": [
       "Text(0.5, 1.0, 'Possible_Impacts vs Asteroid_Diameter')"
      ]
     },
     "execution_count": 59,
     "metadata": {},
     "output_type": "execute_result"
    },
    {
     "data": {
      "image/png": "[encoded data removed]",
      "text/plain": [
       "<Figure size 432x288 with 1 Axes>"
      ]
     },
     "metadata": {
      "needs_background": "light"
     },
     "output_type": "display_data"
    }
   ],
   "source": [
    "plt.scatter(df.Possible_Impacts,df.Asteroid_Diameter_km)\n",
    "plt.title(\"Possible_Impacts vs Asteroid_Diameter\")"
   ]
  },
  {
   "cell_type": "code",
   "execution_count": 53,
   "metadata": {},
   "outputs": [
    {
     "data": {
      "text/plain": [
       "Text(0.5, 1.0, 'Possible_Impacts vs Cumulative_Palermo_Scale')"
      ]
     },
     "execution_count": 53,
     "metadata": {},
     "output_type": "execute_result"
    },
    {
     "data": {
      "image/png": "[encoded data removed]",
      "text/plain": [
       "<Figure size 432x288 with 1 Axes>"
      ]
     },
     "metadata": {
      "needs_background": "light"
     },
     "output_type": "display_data"
    }
   ],
   "source": [
    "plt.scatter(df.Possible_Impacts,df.Cumulative_Palermo_Scale)\n",
    "plt.title(\"Possible_Impacts vs Cumulative_Palermo_Scale\")"
   ]
  },
  {
   "cell_type": "code",
   "execution_count": 57,
   "metadata": {},
   "outputs": [
    {
     "data": {
      "text/plain": [
       "Text(0.5, 1.0, 'Possible_Impacts vs Maximum_Palermo_Scale')"
      ]
     },
     "execution_count": 57,
     "metadata": {},
     "output_type": "execute_result"
    },
    {
     "data": {
      "image/png": "[encoded data removed]",
      "text/plain": [
       "<Figure size 432x288 with 1 Axes>"
      ]
     },
     "metadata": {
      "needs_background": "light"
     },
     "output_type": "display_data"
    }
   ],
   "source": [
    "plt.scatter(df.Possible_Impacts,df.Maximum_Palermo_Scale)\n",
    "plt.title(\"Possible_Impacts vs Maximum_Palermo_Scale\")"
   ]
  },
  {
   "cell_type": "code",
   "execution_count": 55,
   "metadata": {},
   "outputs": [
    {
     "data": {
      "text/plain": [
       "Text(0.5, 1.0, 'Possible_Impacts vs Period_Start')"
      ]
     },
     "execution_count": 55,
     "metadata": {},
     "output_type": "execute_result"
    },
    {
     "data": {
      "image/png": "[encoded data removed]",
      "text/plain": [
       "<Figure size 432x288 with 1 Axes>"
      ]
     },
     "metadata": {
      "needs_background": "light"
     },
     "output_type": "display_data"
    }
   ],
   "source": [
    "plt.scatter(df.Possible_Impacts,df.Period_Start)\n",
    "plt.title(\"Possible_Impacts vs Period_Start\")"
   ]
  },
  {
   "cell_type": "code",
   "execution_count": 56,
   "metadata": {},
   "outputs": [
    {
     "data": {
      "text/plain": [
       "Text(0.5, 1.0, 'Possible_Impacts vs Period_End')"
      ]
     },
     "execution_count": 56,
     "metadata": {},
     "output_type": "execute_result"
    },
    {
     "data": {
      "image/png": "[encoded data removed]",
      "text/plain": [
       "<Figure size 432x288 with 1 Axes>"
      ]
     },
     "metadata": {
      "needs_background": "light"
     },
     "output_type": "display_data"
    }
   ],
   "source": [
    "plt.scatter(df.Possible_Impacts,df.Period_End)\n",
    "plt.title(\"Possible_Impacts vs Period_End\")"
   ]
  },
  {
   "cell_type": "markdown",
   "metadata": {},
   "source": [
    "# 5 choosing the right algorithm"
   ]
  },
  {
   "cell_type": "code",
   "execution_count": 61,
   "metadata": {},
   "outputs": [
    {
     "data": {
      "text/html": [
       "<div>\n",
       "<style scoped>\n",
       "    .dataframe tbody tr th:only-of-type {\n",
       "        vertical-align: middle;\n",
       "    }\n",
       "\n",
       "    .dataframe tbody tr th {\n",
       "        vertical-align: top;\n",
       "    }\n",
       "\n",
       "    .dataframe thead th {\n",
       "        text-align: right;\n",
       "    }\n",
       "</style>\n",
       "<table border=\"1\" class=\"dataframe\">\n",
       "  <thead>\n",
       "    <tr style=\"text-align: right;\">\n",
       "      <th></th>\n",
       "      <th>Period_Start</th>\n",
       "      <th>Period_End</th>\n",
       "      <th>Possible_Impacts</th>\n",
       "      <th>Cumulative_Impact_Probability</th>\n",
       "      <th>Asteroid_Velocity</th>\n",
       "      <th>Asteroid_Magnitude</th>\n",
       "      <th>Asteroid_Diameter_km</th>\n",
       "      <th>Cumulative_Palermo_Scale</th>\n",
       "      <th>Maximum_Palermo_Scale</th>\n",
       "    </tr>\n",
       "  </thead>\n",
       "  <tbody>\n",
       "    <tr>\n",
       "      <th>0</th>\n",
       "      <td>2017</td>\n",
       "      <td>2017</td>\n",
       "      <td>1</td>\n",
       "      <td>5.200000e-09</td>\n",
       "      <td>17.77</td>\n",
       "      <td>28.3</td>\n",
       "      <td>0.007</td>\n",
       "      <td>-8.31</td>\n",
       "      <td>-8.31</td>\n",
       "    </tr>\n",
       "    <tr>\n",
       "      <th>1</th>\n",
       "      <td>2017</td>\n",
       "      <td>2046</td>\n",
       "      <td>23</td>\n",
       "      <td>7.600000e-05</td>\n",
       "      <td>8.98</td>\n",
       "      <td>31.4</td>\n",
       "      <td>0.002</td>\n",
       "      <td>-6.60</td>\n",
       "      <td>-6.96</td>\n",
       "    </tr>\n",
       "    <tr>\n",
       "      <th>2</th>\n",
       "      <td>2017</td>\n",
       "      <td>2062</td>\n",
       "      <td>30</td>\n",
       "      <td>1.600000e-05</td>\n",
       "      <td>18.33</td>\n",
       "      <td>31.4</td>\n",
       "      <td>0.002</td>\n",
       "      <td>-6.48</td>\n",
       "      <td>-6.87</td>\n",
       "    </tr>\n",
       "    <tr>\n",
       "      <th>3</th>\n",
       "      <td>2017</td>\n",
       "      <td>2076</td>\n",
       "      <td>24</td>\n",
       "      <td>2.000000e-07</td>\n",
       "      <td>4.99</td>\n",
       "      <td>26.7</td>\n",
       "      <td>0.016</td>\n",
       "      <td>-6.83</td>\n",
       "      <td>-6.95</td>\n",
       "    </tr>\n",
       "    <tr>\n",
       "      <th>4</th>\n",
       "      <td>2017</td>\n",
       "      <td>2096</td>\n",
       "      <td>85</td>\n",
       "      <td>2.300000e-08</td>\n",
       "      <td>19.46</td>\n",
       "      <td>19.2</td>\n",
       "      <td>0.497</td>\n",
       "      <td>-3.85</td>\n",
       "      <td>-4.30</td>\n",
       "    </tr>\n",
       "    <tr>\n",
       "      <th>...</th>\n",
       "      <td>...</td>\n",
       "      <td>...</td>\n",
       "      <td>...</td>\n",
       "      <td>...</td>\n",
       "      <td>...</td>\n",
       "      <td>...</td>\n",
       "      <td>...</td>\n",
       "      <td>...</td>\n",
       "      <td>...</td>\n",
       "    </tr>\n",
       "    <tr>\n",
       "      <th>675</th>\n",
       "      <td>2114</td>\n",
       "      <td>2114</td>\n",
       "      <td>1</td>\n",
       "      <td>2.000000e-05</td>\n",
       "      <td>11.06</td>\n",
       "      <td>25.9</td>\n",
       "      <td>0.023</td>\n",
       "      <td>-5.44</td>\n",
       "      <td>-5.44</td>\n",
       "    </tr>\n",
       "    <tr>\n",
       "      <th>676</th>\n",
       "      <td>2114</td>\n",
       "      <td>2114</td>\n",
       "      <td>1</td>\n",
       "      <td>2.600000e-06</td>\n",
       "      <td>6.70</td>\n",
       "      <td>25.4</td>\n",
       "      <td>0.028</td>\n",
       "      <td>-6.25</td>\n",
       "      <td>-6.25</td>\n",
       "    </tr>\n",
       "    <tr>\n",
       "      <th>677</th>\n",
       "      <td>2115</td>\n",
       "      <td>2115</td>\n",
       "      <td>1</td>\n",
       "      <td>3.400000e-08</td>\n",
       "      <td>9.56</td>\n",
       "      <td>25.7</td>\n",
       "      <td>0.025</td>\n",
       "      <td>-8.15</td>\n",
       "      <td>-8.15</td>\n",
       "    </tr>\n",
       "    <tr>\n",
       "      <th>678</th>\n",
       "      <td>2115</td>\n",
       "      <td>2115</td>\n",
       "      <td>1</td>\n",
       "      <td>2.800000e-07</td>\n",
       "      <td>15.00</td>\n",
       "      <td>28.0</td>\n",
       "      <td>0.008</td>\n",
       "      <td>-8.22</td>\n",
       "      <td>-8.22</td>\n",
       "    </tr>\n",
       "    <tr>\n",
       "      <th>679</th>\n",
       "      <td>2115</td>\n",
       "      <td>2115</td>\n",
       "      <td>1</td>\n",
       "      <td>2.300000e-08</td>\n",
       "      <td>3.27</td>\n",
       "      <td>29.2</td>\n",
       "      <td>0.005</td>\n",
       "      <td>-10.18</td>\n",
       "      <td>-10.20</td>\n",
       "    </tr>\n",
       "  </tbody>\n",
       "</table>\n",
       "<p>680 rows × 9 columns</p>\n",
       "</div>"
      ],
      "text/plain": [
       "     Period_Start  Period_End  Possible_Impacts  \\\n",
       "0            2017        2017                 1   \n",
       "1            2017        2046                23   \n",
       "2            2017        2062                30   \n",
       "3            2017        2076                24   \n",
       "4            2017        2096                85   \n",
       "..            ...         ...               ...   \n",
       "675          2114        2114                 1   \n",
       "676          2114        2114                 1   \n",
       "677          2115        2115                 1   \n",
       "678          2115        2115                 1   \n",
       "679          2115        2115                 1   \n",
       "\n",
       "     Cumulative_Impact_Probability  Asteroid_Velocity  Asteroid_Magnitude  \\\n",
       "0                     5.200000e-09              17.77                28.3   \n",
       "1                     7.600000e-05               8.98                31.4   \n",
       "2                     1.600000e-05              18.33                31.4   \n",
       "3                     2.000000e-07               4.99                26.7   \n",
       "4                     2.300000e-08              19.46                19.2   \n",
       "..                             ...                ...                 ...   \n",
       "675                   2.000000e-05              11.06                25.9   \n",
       "676                   2.600000e-06               6.70                25.4   \n",
       "677                   3.400000e-08               9.56                25.7   \n",
       "678                   2.800000e-07              15.00                28.0   \n",
       "679                   2.300000e-08               3.27                29.2   \n",
       "\n",
       "     Asteroid_Diameter_km  Cumulative_Palermo_Scale  Maximum_Palermo_Scale  \n",
       "0                   0.007                     -8.31                  -8.31  \n",
       "1                   0.002                     -6.60                  -6.96  \n",
       "2                   0.002                     -6.48                  -6.87  \n",
       "3                   0.016                     -6.83                  -6.95  \n",
       "4                   0.497                     -3.85                  -4.30  \n",
       "..                    ...                       ...                    ...  \n",
       "675                 0.023                     -5.44                  -5.44  \n",
       "676                 0.028                     -6.25                  -6.25  \n",
       "677                 0.025                     -8.15                  -8.15  \n",
       "678                 0.008                     -8.22                  -8.22  \n",
       "679                 0.005                    -10.18                 -10.20  \n",
       "\n",
       "[680 rows x 9 columns]"
      ]
     },
     "execution_count": 61,
     "metadata": {},
     "output_type": "execute_result"
    }
   ],
   "source": [
    "df"
   ]
  },
  {
   "cell_type": "markdown",
   "metadata": {},
   "source": [
    "we know our output ,so we are going to use supervised learning . our target and our features are continuious values ,we will use regression "
   ]
  },
  {
   "cell_type": "markdown",
   "metadata": {},
   "source": [
    "# 6 modeling"
   ]
  },
  {
   "cell_type": "markdown",
   "metadata": {},
   "source": [
    "### 1 linear regression "
   ]
  },
  {
   "cell_type": "code",
   "execution_count": 63,
   "metadata": {},
   "outputs": [],
   "source": [
    "import numpy as np\n",
    "import pandas as pd \n",
    "import matplotlib.pyplot as plt\n",
    "\n",
    "from sklearn.model_selection import train_test_split\n",
    "from sklearn.linear_model import LinearRegression\n",
    "from sklearn.metrics import mean_squared_error\n",
    "from sklearn import metrics"
   ]
  },
  {
   "cell_type": "code",
   "execution_count": 64,
   "metadata": {},
   "outputs": [
    {
     "name": "stdout",
     "output_type": "stream",
     "text": [
      "MSE 12483.256083739603\n",
      "R squared 0.16052072459765776\n"
     ]
    }
   ],
   "source": [
    "y=df[\"Possible_Impacts\"].values\n",
    "x=df[\"Period_Start\"].values[:,np.newaxis]\n",
    "x_train,x_test,y_train,y_test=train_test_split(x,y,test_size=0.35,random_state=40) #splitting data with test size of 35%\n",
    "\n",
    "model=LinearRegression()   #build linear regression model\n",
    "model.fit(x_train,y_train)  #fitting the training data\n",
    "predicted=model.predict(x_test) #testing our model’s performance\n",
    "\n",
    "\n",
    "print(\"MSE\", mean_squared_error(y_test,predicted))\n",
    "print(\"R squared\", metrics.r2_score(y_test,predicted))\n"
   ]
  },
  {
   "cell_type": "code",
   "execution_count": 65,
   "metadata": {},
   "outputs": [
    {
     "name": "stdout",
     "output_type": "stream",
     "text": [
      "MSE 14003.621770745272\n",
      "R squared 0.0582785309974958\n"
     ]
    }
   ],
   "source": [
    "y=df[\"Possible_Impacts\"].values\n",
    "x=df[\"Period_End\"].values[:,np.newaxis]\n",
    "x_train,x_test,y_train,y_test=train_test_split(x,y,test_size=0.35,random_state=40) #splitting data with test size of 35%\n",
    "\n",
    "model=LinearRegression()   #build linear regression model\n",
    "model.fit(x_train,y_train)  #fitting the training data\n",
    "predicted=model.predict(x_test) #testing our model’s performance\n",
    "\n",
    "\n",
    "print(\"MSE\", mean_squared_error(y_test,predicted))\n",
    "print(\"R squared\", metrics.r2_score(y_test,predicted))\n"
   ]
  },
  {
   "cell_type": "code",
   "execution_count": 66,
   "metadata": {},
   "outputs": [
    {
     "name": "stdout",
     "output_type": "stream",
     "text": [
      "MSE 14939.374323957623\n",
      "R squared -0.004649351764584919\n"
     ]
    }
   ],
   "source": [
    "y=df[\"Possible_Impacts\"].values\n",
    "x=df[\"Cumulative_Impact_Probability\"].values[:,np.newaxis]\n",
    "x_train,x_test,y_train,y_test=train_test_split(x,y,test_size=0.35,random_state=40) #splitting data with test size of 35%\n",
    "\n",
    "model=LinearRegression()   #build linear regression model\n",
    "model.fit(x_train,y_train)  #fitting the training data\n",
    "predicted=model.predict(x_test) #testing our model’s performance\n",
    "\n",
    "\n",
    "print(\"MSE\", mean_squared_error(y_test,predicted))\n",
    "print(\"R squared\", metrics.r2_score(y_test,predicted))\n"
   ]
  },
  {
   "cell_type": "code",
   "execution_count": 67,
   "metadata": {},
   "outputs": [
    {
     "name": "stdout",
     "output_type": "stream",
     "text": [
      "MSE 14674.979220568244\n",
      "R squared 0.013130801772628597\n"
     ]
    }
   ],
   "source": [
    "y=df[\"Possible_Impacts\"].values\n",
    "x=df[\"Asteroid_Velocity\"].values[:,np.newaxis]\n",
    "x_train,x_test,y_train,y_test=train_test_split(x,y,test_size=0.35,random_state=40) #splitting data with test size of 35%\n",
    "\n",
    "model=LinearRegression()   #build linear regression model\n",
    "model.fit(x_train,y_train)  #fitting the training data\n",
    "predicted=model.predict(x_test) #testing our model’s performance\n",
    "\n",
    "\n",
    "print(\"MSE\", mean_squared_error(y_test,predicted))\n",
    "print(\"R squared\", metrics.r2_score(y_test,predicted))\n"
   ]
  },
  {
   "cell_type": "code",
   "execution_count": 68,
   "metadata": {},
   "outputs": [
    {
     "name": "stdout",
     "output_type": "stream",
     "text": [
      "MSE 14827.08985225064\n",
      "R squared 0.0029016017939419436\n"
     ]
    }
   ],
   "source": [
    "y=df[\"Possible_Impacts\"].values\n",
    "x=df[\"Asteroid_Magnitude\"].values[:,np.newaxis]\n",
    "x_train,x_test,y_train,y_test=train_test_split(x,y,test_size=0.35,random_state=40) #splitting data with test size of 35%\n",
    "\n",
    "model=LinearRegression()   #build linear regression model\n",
    "model.fit(x_train,y_train)  #fitting the training data\n",
    "predicted=model.predict(x_test) #testing our model’s performance\n",
    "\n",
    "\n",
    "print(\"MSE\", mean_squared_error(y_test,predicted))\n",
    "print(\"R squared\", metrics.r2_score(y_test,predicted))\n"
   ]
  },
  {
   "cell_type": "code",
   "execution_count": 69,
   "metadata": {},
   "outputs": [
    {
     "name": "stdout",
     "output_type": "stream",
     "text": [
      "MSE 14917.626697312935\n",
      "R squared -0.003186858186392083\n"
     ]
    }
   ],
   "source": [
    "y=df[\"Possible_Impacts\"].values\n",
    "x=df[\"Asteroid_Diameter_km\"].values[:,np.newaxis]\n",
    "x_train,x_test,y_train,y_test=train_test_split(x,y,test_size=0.35,random_state=40) #splitting data with test size of 35%\n",
    "\n",
    "model=LinearRegression()   #build linear regression model\n",
    "model.fit(x_train,y_train)  #fitting the training data\n",
    "predicted=model.predict(x_test) #testing our model’s performance\n",
    "\n",
    "\n",
    "print(\"MSE\", mean_squared_error(y_test,predicted))\n",
    "print(\"R squared\", metrics.r2_score(y_test,predicted))\n"
   ]
  },
  {
   "cell_type": "code",
   "execution_count": 70,
   "metadata": {},
   "outputs": [
    {
     "name": "stdout",
     "output_type": "stream",
     "text": [
      "MSE 14573.54889507321\n",
      "R squared 0.019951831124201846\n"
     ]
    }
   ],
   "source": [
    "y=df[\"Possible_Impacts\"].values\n",
    "x=df[\"Cumulative_Palermo_Scale\"].values[:,np.newaxis]\n",
    "x_train,x_test,y_train,y_test=train_test_split(x,y,test_size=0.35,random_state=40) #splitting data with test size of 35%\n",
    "\n",
    "model=LinearRegression()   #build linear regression model\n",
    "model.fit(x_train,y_train)  #fitting the training data\n",
    "predicted=model.predict(x_test) #testing our model’s performance\n",
    "\n",
    "\n",
    "print(\"MSE\", mean_squared_error(y_test,predicted))\n",
    "print(\"R squared\", metrics.r2_score(y_test,predicted))\n"
   ]
  },
  {
   "cell_type": "code",
   "execution_count": 71,
   "metadata": {},
   "outputs": [
    {
     "name": "stdout",
     "output_type": "stream",
     "text": [
      "MSE 14939.544805567357\n",
      "R squared -0.004660816383851518\n"
     ]
    }
   ],
   "source": [
    "y=df[\"Possible_Impacts\"].values\n",
    "x=df[\"Maximum_Palermo_Scale\"].values[:,np.newaxis]\n",
    "x_train,x_test,y_train,y_test=train_test_split(x,y,test_size=0.35,random_state=40) #splitting data with test size of 35%\n",
    "\n",
    "model=LinearRegression()   #build linear regression model\n",
    "model.fit(x_train,y_train)  #fitting the training data\n",
    "predicted=model.predict(x_test) #testing our model’s performance\n",
    "\n",
    "\n",
    "print(\"MSE\", mean_squared_error(y_test,predicted))\n",
    "print(\"R squared\", metrics.r2_score(y_test,predicted))\n"
   ]
  },
  {
   "cell_type": "markdown",
   "metadata": {},
   "source": [
    "linear regression is a bad algorythm for this project . all of these r squared are very low . "
   ]
  },
  {
   "cell_type": "markdown",
   "metadata": {},
   "source": [
    "### 2 multilinear regression"
   ]
  },
  {
   "cell_type": "code",
   "execution_count": 72,
   "metadata": {},
   "outputs": [
    {
     "data": {
      "text/html": [
       "<div>\n",
       "<style scoped>\n",
       "    .dataframe tbody tr th:only-of-type {\n",
       "        vertical-align: middle;\n",
       "    }\n",
       "\n",
       "    .dataframe tbody tr th {\n",
       "        vertical-align: top;\n",
       "    }\n",
       "\n",
       "    .dataframe thead th {\n",
       "        text-align: right;\n",
       "    }\n",
       "</style>\n",
       "<table border=\"1\" class=\"dataframe\">\n",
       "  <thead>\n",
       "    <tr style=\"text-align: right;\">\n",
       "      <th></th>\n",
       "      <th>Period_Start</th>\n",
       "      <th>Period_End</th>\n",
       "      <th>Possible_Impacts</th>\n",
       "      <th>Cumulative_Impact_Probability</th>\n",
       "      <th>Asteroid_Velocity</th>\n",
       "      <th>Asteroid_Magnitude</th>\n",
       "      <th>Asteroid_Diameter_km</th>\n",
       "      <th>Cumulative_Palermo_Scale</th>\n",
       "      <th>Maximum_Palermo_Scale</th>\n",
       "    </tr>\n",
       "  </thead>\n",
       "  <tbody>\n",
       "    <tr>\n",
       "      <th>0</th>\n",
       "      <td>2017</td>\n",
       "      <td>2017</td>\n",
       "      <td>1</td>\n",
       "      <td>5.200000e-09</td>\n",
       "      <td>17.77</td>\n",
       "      <td>28.3</td>\n",
       "      <td>0.007</td>\n",
       "      <td>-8.31</td>\n",
       "      <td>-8.31</td>\n",
       "    </tr>\n",
       "    <tr>\n",
       "      <th>1</th>\n",
       "      <td>2017</td>\n",
       "      <td>2046</td>\n",
       "      <td>23</td>\n",
       "      <td>7.600000e-05</td>\n",
       "      <td>8.98</td>\n",
       "      <td>31.4</td>\n",
       "      <td>0.002</td>\n",
       "      <td>-6.60</td>\n",
       "      <td>-6.96</td>\n",
       "    </tr>\n",
       "    <tr>\n",
       "      <th>2</th>\n",
       "      <td>2017</td>\n",
       "      <td>2062</td>\n",
       "      <td>30</td>\n",
       "      <td>1.600000e-05</td>\n",
       "      <td>18.33</td>\n",
       "      <td>31.4</td>\n",
       "      <td>0.002</td>\n",
       "      <td>-6.48</td>\n",
       "      <td>-6.87</td>\n",
       "    </tr>\n",
       "    <tr>\n",
       "      <th>3</th>\n",
       "      <td>2017</td>\n",
       "      <td>2076</td>\n",
       "      <td>24</td>\n",
       "      <td>2.000000e-07</td>\n",
       "      <td>4.99</td>\n",
       "      <td>26.7</td>\n",
       "      <td>0.016</td>\n",
       "      <td>-6.83</td>\n",
       "      <td>-6.95</td>\n",
       "    </tr>\n",
       "    <tr>\n",
       "      <th>4</th>\n",
       "      <td>2017</td>\n",
       "      <td>2096</td>\n",
       "      <td>85</td>\n",
       "      <td>2.300000e-08</td>\n",
       "      <td>19.46</td>\n",
       "      <td>19.2</td>\n",
       "      <td>0.497</td>\n",
       "      <td>-3.85</td>\n",
       "      <td>-4.30</td>\n",
       "    </tr>\n",
       "    <tr>\n",
       "      <th>...</th>\n",
       "      <td>...</td>\n",
       "      <td>...</td>\n",
       "      <td>...</td>\n",
       "      <td>...</td>\n",
       "      <td>...</td>\n",
       "      <td>...</td>\n",
       "      <td>...</td>\n",
       "      <td>...</td>\n",
       "      <td>...</td>\n",
       "    </tr>\n",
       "    <tr>\n",
       "      <th>675</th>\n",
       "      <td>2114</td>\n",
       "      <td>2114</td>\n",
       "      <td>1</td>\n",
       "      <td>2.000000e-05</td>\n",
       "      <td>11.06</td>\n",
       "      <td>25.9</td>\n",
       "      <td>0.023</td>\n",
       "      <td>-5.44</td>\n",
       "      <td>-5.44</td>\n",
       "    </tr>\n",
       "    <tr>\n",
       "      <th>676</th>\n",
       "      <td>2114</td>\n",
       "      <td>2114</td>\n",
       "      <td>1</td>\n",
       "      <td>2.600000e-06</td>\n",
       "      <td>6.70</td>\n",
       "      <td>25.4</td>\n",
       "      <td>0.028</td>\n",
       "      <td>-6.25</td>\n",
       "      <td>-6.25</td>\n",
       "    </tr>\n",
       "    <tr>\n",
       "      <th>677</th>\n",
       "      <td>2115</td>\n",
       "      <td>2115</td>\n",
       "      <td>1</td>\n",
       "      <td>3.400000e-08</td>\n",
       "      <td>9.56</td>\n",
       "      <td>25.7</td>\n",
       "      <td>0.025</td>\n",
       "      <td>-8.15</td>\n",
       "      <td>-8.15</td>\n",
       "    </tr>\n",
       "    <tr>\n",
       "      <th>678</th>\n",
       "      <td>2115</td>\n",
       "      <td>2115</td>\n",
       "      <td>1</td>\n",
       "      <td>2.800000e-07</td>\n",
       "      <td>15.00</td>\n",
       "      <td>28.0</td>\n",
       "      <td>0.008</td>\n",
       "      <td>-8.22</td>\n",
       "      <td>-8.22</td>\n",
       "    </tr>\n",
       "    <tr>\n",
       "      <th>679</th>\n",
       "      <td>2115</td>\n",
       "      <td>2115</td>\n",
       "      <td>1</td>\n",
       "      <td>2.300000e-08</td>\n",
       "      <td>3.27</td>\n",
       "      <td>29.2</td>\n",
       "      <td>0.005</td>\n",
       "      <td>-10.18</td>\n",
       "      <td>-10.20</td>\n",
       "    </tr>\n",
       "  </tbody>\n",
       "</table>\n",
       "<p>680 rows × 9 columns</p>\n",
       "</div>"
      ],
      "text/plain": [
       "     Period_Start  Period_End  Possible_Impacts  \\\n",
       "0            2017        2017                 1   \n",
       "1            2017        2046                23   \n",
       "2            2017        2062                30   \n",
       "3            2017        2076                24   \n",
       "4            2017        2096                85   \n",
       "..            ...         ...               ...   \n",
       "675          2114        2114                 1   \n",
       "676          2114        2114                 1   \n",
       "677          2115        2115                 1   \n",
       "678          2115        2115                 1   \n",
       "679          2115        2115                 1   \n",
       "\n",
       "     Cumulative_Impact_Probability  Asteroid_Velocity  Asteroid_Magnitude  \\\n",
       "0                     5.200000e-09              17.77                28.3   \n",
       "1                     7.600000e-05               8.98                31.4   \n",
       "2                     1.600000e-05              18.33                31.4   \n",
       "3                     2.000000e-07               4.99                26.7   \n",
       "4                     2.300000e-08              19.46                19.2   \n",
       "..                             ...                ...                 ...   \n",
       "675                   2.000000e-05              11.06                25.9   \n",
       "676                   2.600000e-06               6.70                25.4   \n",
       "677                   3.400000e-08               9.56                25.7   \n",
       "678                   2.800000e-07              15.00                28.0   \n",
       "679                   2.300000e-08               3.27                29.2   \n",
       "\n",
       "     Asteroid_Diameter_km  Cumulative_Palermo_Scale  Maximum_Palermo_Scale  \n",
       "0                   0.007                     -8.31                  -8.31  \n",
       "1                   0.002                     -6.60                  -6.96  \n",
       "2                   0.002                     -6.48                  -6.87  \n",
       "3                   0.016                     -6.83                  -6.95  \n",
       "4                   0.497                     -3.85                  -4.30  \n",
       "..                    ...                       ...                    ...  \n",
       "675                 0.023                     -5.44                  -5.44  \n",
       "676                 0.028                     -6.25                  -6.25  \n",
       "677                 0.025                     -8.15                  -8.15  \n",
       "678                 0.008                     -8.22                  -8.22  \n",
       "679                 0.005                    -10.18                 -10.20  \n",
       "\n",
       "[680 rows x 9 columns]"
      ]
     },
     "execution_count": 72,
     "metadata": {},
     "output_type": "execute_result"
    }
   ],
   "source": [
    "df"
   ]
  },
  {
   "cell_type": "code",
   "execution_count": 73,
   "metadata": {},
   "outputs": [
    {
     "name": "stdout",
     "output_type": "stream",
     "text": [
      "MSE 8995.111824404697\n",
      "R squared 0.3950929224026475\n"
     ]
    }
   ],
   "source": [
    "x=df[[\"Period_Start\",\"Period_End\",\"Cumulative_Impact_Probability\",\"Asteroid_Velocity\",\"Asteroid_Magnitude\",\"Asteroid_Diameter_km\",\"Cumulative_Palermo_Scale\",\"Maximum_Palermo_Scale\"]]  #we have more than one input\n",
    "y=df[\"Possible_Impacts\"].values\n",
    "x_train,x_test,y_train,y_test=train_test_split(x,y,test_size=0.35,random_state=40) #splitting data with test size of 35%\n",
    "\n",
    "model=LinearRegression() #build linear regression model\n",
    "model.fit(x_train,y_train) #fitting the training data\n",
    "predicted=model.predict(x_test) #testing our model’s performance\n",
    "\n",
    "print(\"MSE\", mean_squared_error(y_test,predicted))\n",
    "print(\"R squared\", metrics.r2_score(y_test,predicted))"
   ]
  },
  {
   "cell_type": "markdown",
   "metadata": {},
   "source": [
    "multilinear regression is better than linear regression , but the result is still insuffisant "
   ]
  },
  {
   "cell_type": "code",
   "execution_count": 79,
   "metadata": {},
   "outputs": [
    {
     "name": "stdout",
     "output_type": "stream",
     "text": [
      "MSE 9392.487091828913\n",
      "R squared 0.3683700626517674\n"
     ]
    }
   ],
   "source": [
    "x=df[[\"Cumulative_Impact_Probability\",\"Asteroid_Velocity\",\"Asteroid_Magnitude\",\"Asteroid_Diameter_km\",\"Cumulative_Palermo_Scale\",\"Maximum_Palermo_Scale\"]]  #we have more than one input\n",
    "y=df[\"Possible_Impacts\"].values\n",
    "x_train,x_test,y_train,y_test=train_test_split(x,y,test_size=0.35,random_state=40) #splitting data with test size of 35%\n",
    "\n",
    "model=LinearRegression() #build linear regression model\n",
    "model.fit(x_train,y_train) #fitting the training data\n",
    "predicted=model.predict(x_test) #testing our model’s performance\n",
    "\n",
    "print(\"MSE\", mean_squared_error(y_test,predicted))\n",
    "print(\"R squared\", metrics.r2_score(y_test,predicted))"
   ]
  },
  {
   "cell_type": "code",
   "execution_count": 80,
   "metadata": {},
   "outputs": [
    {
     "name": "stdout",
     "output_type": "stream",
     "text": [
      "MSE 9005.004210444115\n",
      "R squared 0.39442767504982035\n"
     ]
    }
   ],
   "source": [
    "x=df[[\"Period_Start\",\"Period_End\",\"Asteroid_Velocity\",\"Asteroid_Magnitude\",\"Asteroid_Diameter_km\",\"Cumulative_Palermo_Scale\",\"Maximum_Palermo_Scale\"]]  #we have more than one input\n",
    "y=df[\"Possible_Impacts\"].values\n",
    "x_train,x_test,y_train,y_test=train_test_split(x,y,test_size=0.35,random_state=40) #splitting data with test size of 35%\n",
    "\n",
    "model=LinearRegression() #build linear regression model\n",
    "model.fit(x_train,y_train) #fitting the training data\n",
    "predicted=model.predict(x_test) #testing our model’s performance\n",
    "\n",
    "print(\"MSE\", mean_squared_error(y_test,predicted))\n",
    "print(\"R squared\", metrics.r2_score(y_test,predicted))"
   ]
  },
  {
   "cell_type": "code",
   "execution_count": 82,
   "metadata": {},
   "outputs": [
    {
     "name": "stdout",
     "output_type": "stream",
     "text": [
      "MSE 8998.325881060173\n",
      "R squared 0.3948767821637432\n"
     ]
    }
   ],
   "source": [
    "x=df[[\"Period_Start\",\"Period_End\",\"Cumulative_Impact_Probability\",\"Asteroid_Magnitude\",\"Asteroid_Diameter_km\",\"Cumulative_Palermo_Scale\",\"Maximum_Palermo_Scale\"]]  #we have more than one input\n",
    "y=df[\"Possible_Impacts\"].values\n",
    "x_train,x_test,y_train,y_test=train_test_split(x,y,test_size=0.35,random_state=40) #splitting data with test size of 35%\n",
    "\n",
    "model=LinearRegression() #build linear regression model\n",
    "model.fit(x_train,y_train) #fitting the training data\n",
    "predicted=model.predict(x_test) #testing our model’s performance\n",
    "\n",
    "print(\"MSE\", mean_squared_error(y_test,predicted))\n",
    "print(\"R squared\", metrics.r2_score(y_test,predicted))"
   ]
  },
  {
   "cell_type": "code",
   "execution_count": 84,
   "metadata": {},
   "outputs": [
    {
     "name": "stdout",
     "output_type": "stream",
     "text": [
      "MSE 8998.325881060173\n",
      "R squared 0.3948767821637432\n"
     ]
    }
   ],
   "source": [
    "x=df[[\"Period_Start\",\"Period_End\",\"Cumulative_Impact_Probability\",\"Asteroid_Magnitude\",\"Asteroid_Diameter_km\",\"Cumulative_Palermo_Scale\",\"Maximum_Palermo_Scale\"]]  #we have more than one input\n",
    "y=df[\"Possible_Impacts\"].values\n",
    "x_train,x_test,y_train,y_test=train_test_split(x,y,test_size=0.35,random_state=40) #splitting data with test size of 35%\n",
    "\n",
    "model=LinearRegression() #build linear regression model\n",
    "model.fit(x_train,y_train) #fitting the training data\n",
    "predicted=model.predict(x_test) #testing our model’s performance\n",
    "\n",
    "print(\"MSE\", mean_squared_error(y_test,predicted))\n",
    "print(\"R squared\", metrics.r2_score(y_test,predicted))"
   ]
  },
  {
   "cell_type": "code",
   "execution_count": 85,
   "metadata": {},
   "outputs": [
    {
     "name": "stdout",
     "output_type": "stream",
     "text": [
      "MSE 8998.485928842287\n",
      "R squared 0.3948660192029214\n"
     ]
    }
   ],
   "source": [
    "x=df[[\"Period_Start\",\"Period_End\",\"Cumulative_Impact_Probability\",\"Asteroid_Velocity\",\"Asteroid_Magnitude\",\"Cumulative_Palermo_Scale\",\"Maximum_Palermo_Scale\"]]  #we have more than one input\n",
    "y=df[\"Possible_Impacts\"].values\n",
    "x_train,x_test,y_train,y_test=train_test_split(x,y,test_size=0.35,random_state=40) #splitting data with test size of 35%\n",
    "\n",
    "model=LinearRegression() #build linear regression model\n",
    "model.fit(x_train,y_train) #fitting the training data\n",
    "predicted=model.predict(x_test) #testing our model’s performance\n",
    "\n",
    "print(\"MSE\", mean_squared_error(y_test,predicted))\n",
    "print(\"R squared\", metrics.r2_score(y_test,predicted))"
   ]
  },
  {
   "cell_type": "code",
   "execution_count": 86,
   "metadata": {},
   "outputs": [
    {
     "name": "stdout",
     "output_type": "stream",
     "text": [
      "MSE 10571.489895681647\n",
      "R squared 0.28908398433724447\n"
     ]
    }
   ],
   "source": [
    "x=df[[\"Period_Start\",\"Period_End\",\"Cumulative_Impact_Probability\",\"Asteroid_Velocity\",\"Asteroid_Magnitude\",\"Asteroid_Diameter_km\",\"Cumulative_Palermo_Scale\"]]  #we have more than one input\n",
    "y=df[\"Possible_Impacts\"].values\n",
    "x_train,x_test,y_train,y_test=train_test_split(x,y,test_size=0.35,random_state=40) #splitting data with test size of 35%\n",
    "\n",
    "model=LinearRegression() #build linear regression model\n",
    "model.fit(x_train,y_train) #fitting the training data\n",
    "predicted=model.predict(x_test) #testing our model’s performance\n",
    "\n",
    "print(\"MSE\", mean_squared_error(y_test,predicted))\n",
    "print(\"R squared\", metrics.r2_score(y_test,predicted))"
   ]
  },
  {
   "cell_type": "markdown",
   "metadata": {},
   "source": [
    "### 3 polynomial regression "
   ]
  },
  {
   "cell_type": "code",
   "execution_count": 74,
   "metadata": {},
   "outputs": [],
   "source": [
    "from sklearn.model_selection import train_test_split\n",
    "from sklearn.linear_model import LinearRegression\n",
    "from sklearn.preprocessing import PolynomialFeatures \n",
    "\n",
    "from sklearn.metrics import mean_squared_error\n",
    "from sklearn import metrics"
   ]
  },
  {
   "cell_type": "code",
   "execution_count": 75,
   "metadata": {},
   "outputs": [
    {
     "name": "stdout",
     "output_type": "stream",
     "text": [
      "MSE:  9426656.240176208\n",
      "R squared:  -632.9277586621017\n"
     ]
    }
   ],
   "source": [
    "x=df[[\"Period_Start\",\"Period_End\",\"Cumulative_Impact_Probability\",\"Asteroid_Velocity\",\"Asteroid_Magnitude\",\"Asteroid_Diameter_km\",\"Cumulative_Palermo_Scale\",\"Maximum_Palermo_Scale\"]]  #we have more than one input\n",
    "y=df[\"Possible_Impacts\"].values\n",
    "\n",
    "x_train, x_test, y_train, y_test = train_test_split(x, y, test_size=0.35, random_state=40)  #splitting data\n",
    "lg=LinearRegression()\n",
    "poly=PolynomialFeatures(degree=3)\n",
    "\n",
    "x_train_fit = poly.fit_transform(x_train) #transforming our input data\n",
    "lg.fit(x_train_fit, y_train)\n",
    "x_test_ = poly.fit_transform(x_test)\n",
    "predicted = lg.predict(x_test_)\n",
    "\n",
    "print(\"MSE: \", metrics.mean_squared_error(y_test, predicted))\n",
    "print(\"R squared: \", metrics.r2_score(y_test,predicted))\n",
    "\n"
   ]
  },
  {
   "cell_type": "code",
   "execution_count": 76,
   "metadata": {},
   "outputs": [
    {
     "name": "stdout",
     "output_type": "stream",
     "text": [
      "MSE:  94521.00033909664\n",
      "R squared:  -5.356388136451578\n"
     ]
    }
   ],
   "source": [
    "x=df[[\"Period_Start\",\"Period_End\",\"Cumulative_Impact_Probability\",\"Asteroid_Velocity\",\"Asteroid_Magnitude\",\"Asteroid_Diameter_km\",\"Cumulative_Palermo_Scale\",\"Maximum_Palermo_Scale\"]]  #we have more than one input\n",
    "y=df[\"Possible_Impacts\"].values\n",
    "\n",
    "x_train, x_test, y_train, y_test = train_test_split(x, y, test_size=0.35, random_state=40)  #splitting data\n",
    "lg=LinearRegression()\n",
    "poly=PolynomialFeatures(degree=2)\n",
    "\n",
    "x_train_fit = poly.fit_transform(x_train) #transforming our input data\n",
    "lg.fit(x_train_fit, y_train)\n",
    "x_test_ = poly.fit_transform(x_test)\n",
    "predicted = lg.predict(x_test_)\n",
    "\n",
    "print(\"MSE: \", metrics.mean_squared_error(y_test, predicted))\n",
    "print(\"R squared: \", metrics.r2_score(y_test,predicted))\n",
    "\n"
   ]
  },
  {
   "cell_type": "code",
   "execution_count": 78,
   "metadata": {},
   "outputs": [
    {
     "name": "stdout",
     "output_type": "stream",
     "text": [
      "MSE:  67015285.47011068\n",
      "R squared:  -4505.672210354629\n"
     ]
    }
   ],
   "source": [
    "x=df[[\"Period_Start\",\"Period_End\",\"Cumulative_Impact_Probability\",\"Asteroid_Velocity\",\"Asteroid_Magnitude\",\"Asteroid_Diameter_km\",\"Cumulative_Palermo_Scale\",\"Maximum_Palermo_Scale\"]]  #we have more than one input\n",
    "y=df[\"Possible_Impacts\"].values\n",
    "\n",
    "x_train, x_test, y_train, y_test = train_test_split(x, y, test_size=0.35, random_state=40)  #splitting data\n",
    "lg=LinearRegression()\n",
    "poly=PolynomialFeatures(degree=4)\n",
    "\n",
    "x_train_fit = poly.fit_transform(x_train) #transforming our input data\n",
    "lg.fit(x_train_fit, y_train)\n",
    "x_test_ = poly.fit_transform(x_test)\n",
    "predicted = lg.predict(x_test_)\n",
    "\n",
    "print(\"MSE: \", metrics.mean_squared_error(y_test, predicted))\n",
    "print(\"R squared: \", metrics.r2_score(y_test,predicted))\n",
    "\n"
   ]
  },
  {
   "cell_type": "code",
   "execution_count": 87,
   "metadata": {},
   "outputs": [
    {
     "name": "stdout",
     "output_type": "stream",
     "text": [
      "MSE:  16947806.566748578\n",
      "R squared:  -1138.7132511641207\n"
     ]
    }
   ],
   "source": [
    "x=df[[\"Period_End\",\"Cumulative_Impact_Probability\",\"Asteroid_Velocity\",\"Asteroid_Magnitude\",\"Asteroid_Diameter_km\",\"Cumulative_Palermo_Scale\",\"Maximum_Palermo_Scale\"]]  #we have more than one input\n",
    "y=df[\"Possible_Impacts\"].values\n",
    "\n",
    "x_train, x_test, y_train, y_test = train_test_split(x, y, test_size=0.35, random_state=40)  #splitting data\n",
    "lg=LinearRegression()\n",
    "poly=PolynomialFeatures(degree=3)\n",
    "\n",
    "x_train_fit = poly.fit_transform(x_train) #transforming our input data\n",
    "lg.fit(x_train_fit, y_train)\n",
    "x_test_ = poly.fit_transform(x_test)\n",
    "predicted = lg.predict(x_test_)\n",
    "\n",
    "print(\"MSE: \", metrics.mean_squared_error(y_test, predicted))\n",
    "print(\"R squared: \", metrics.r2_score(y_test,predicted))\n",
    "\n"
   ]
  },
  {
   "cell_type": "code",
   "execution_count": 88,
   "metadata": {},
   "outputs": [
    {
     "name": "stdout",
     "output_type": "stream",
     "text": [
      "MSE:  453241.94515298394\n",
      "R squared:  -29.47980568103452\n"
     ]
    }
   ],
   "source": [
    "x=df[[\"Period_End\",\"Cumulative_Impact_Probability\",\"Asteroid_Velocity\",\"Asteroid_Magnitude\",\"Asteroid_Diameter_km\",\"Cumulative_Palermo_Scale\",\"Maximum_Palermo_Scale\"]]  #we have more than one input\n",
    "y=df[\"Possible_Impacts\"].values\n",
    "\n",
    "x_train, x_test, y_train, y_test = train_test_split(x, y, test_size=0.35, random_state=40)  #splitting data\n",
    "lg=LinearRegression()\n",
    "poly=PolynomialFeatures(degree=2)\n",
    "\n",
    "x_train_fit = poly.fit_transform(x_train) #transforming our input data\n",
    "lg.fit(x_train_fit, y_train)\n",
    "x_test_ = poly.fit_transform(x_test)\n",
    "predicted = lg.predict(x_test_)\n",
    "\n",
    "print(\"MSE: \", metrics.mean_squared_error(y_test, predicted))\n",
    "print(\"R squared: \", metrics.r2_score(y_test,predicted))\n",
    "\n"
   ]
  },
  {
   "cell_type": "code",
   "execution_count": 89,
   "metadata": {},
   "outputs": [
    {
     "name": "stdout",
     "output_type": "stream",
     "text": [
      "MSE:  133993.08894312792\n",
      "R squared:  -8.010823815544263\n"
     ]
    }
   ],
   "source": [
    "x=df[[\"Period_Start\",\"Cumulative_Impact_Probability\",\"Asteroid_Velocity\",\"Asteroid_Magnitude\",\"Asteroid_Diameter_km\",\"Cumulative_Palermo_Scale\",\"Maximum_Palermo_Scale\"]]  #we have more than one input\n",
    "y=df[\"Possible_Impacts\"].values\n",
    "\n",
    "x_train, x_test, y_train, y_test = train_test_split(x, y, test_size=0.35, random_state=40)  #splitting data\n",
    "lg=LinearRegression()\n",
    "poly=PolynomialFeatures(degree=2)\n",
    "\n",
    "x_train_fit = poly.fit_transform(x_train) #transforming our input data\n",
    "lg.fit(x_train_fit, y_train)\n",
    "x_test_ = poly.fit_transform(x_test)\n",
    "predicted = lg.predict(x_test_)\n",
    "\n",
    "print(\"MSE: \", metrics.mean_squared_error(y_test, predicted))\n",
    "print(\"R squared: \", metrics.r2_score(y_test,predicted))\n",
    "\n"
   ]
  },
  {
   "cell_type": "code",
   "execution_count": 90,
   "metadata": {},
   "outputs": [
    {
     "name": "stdout",
     "output_type": "stream",
     "text": [
      "MSE:  7234.9820410362645\n",
      "R squared:  0.5134588731805771\n"
     ]
    }
   ],
   "source": [
    "x=df[[\"Period_Start\",\"Period_End\",\"Asteroid_Velocity\",\"Asteroid_Magnitude\",\"Asteroid_Diameter_km\",\"Cumulative_Palermo_Scale\",\"Maximum_Palermo_Scale\"]]  #we have more than one input\n",
    "y=df[\"Possible_Impacts\"].values\n",
    "\n",
    "x_train, x_test, y_train, y_test = train_test_split(x, y, test_size=0.35, random_state=40)  #splitting data\n",
    "lg=LinearRegression()\n",
    "poly=PolynomialFeatures(degree=2)\n",
    "\n",
    "x_train_fit = poly.fit_transform(x_train) #transforming our input data\n",
    "lg.fit(x_train_fit, y_train)\n",
    "x_test_ = poly.fit_transform(x_test)\n",
    "predicted = lg.predict(x_test_)\n",
    "\n",
    "print(\"MSE: \", metrics.mean_squared_error(y_test, predicted))\n",
    "print(\"R squared: \", metrics.r2_score(y_test,predicted))\n",
    "\n"
   ]
  },
  {
   "cell_type": "markdown",
   "metadata": {},
   "source": [
    "this is the best result we have reached until now "
   ]
  },
  {
   "cell_type": "markdown",
   "metadata": {},
   "source": [
    "# 7 experimentation before project execution"
   ]
  },
  {
   "cell_type": "code",
   "execution_count": 92,
   "metadata": {},
   "outputs": [
    {
     "name": "stdout",
     "output_type": "stream",
     "text": [
      "MSE:  179910.3607013875\n",
      "R squared:  -11.098687892472563\n"
     ]
    }
   ],
   "source": [
    "x=df[[\"Period_Start\",\"Period_End\",\"Cumulative_Impact_Probability\",\"Asteroid_Magnitude\",\"Asteroid_Diameter_km\",\"Cumulative_Palermo_Scale\",\"Maximum_Palermo_Scale\"]]  #we have more than one input\n",
    "y=df[\"Possible_Impacts\"].values\n",
    "\n",
    "x_train, x_test, y_train, y_test = train_test_split(x, y, test_size=0.35, random_state=40)  #splitting data\n",
    "lg=LinearRegression()\n",
    "poly=PolynomialFeatures(degree=2)\n",
    "\n",
    "x_train_fit = poly.fit_transform(x_train) #transforming our input data\n",
    "lg.fit(x_train_fit, y_train)\n",
    "x_test_ = poly.fit_transform(x_test)\n",
    "predicted = lg.predict(x_test_)\n",
    "\n",
    "print(\"MSE: \", metrics.mean_squared_error(y_test, predicted))\n",
    "print(\"R squared: \", metrics.r2_score(y_test,predicted))\n",
    "\n"
   ]
  },
  {
   "cell_type": "code",
   "execution_count": 93,
   "metadata": {},
   "outputs": [
    {
     "name": "stdout",
     "output_type": "stream",
     "text": [
      "MSE:  7804.737599308851\n",
      "R squared:  0.4751437108538067\n"
     ]
    }
   ],
   "source": [
    "x=df[[\"Period_Start\",\"Period_End\",\"Cumulative_Impact_Probability\",\"Asteroid_Velocity\",\"Asteroid_Diameter_km\",\"Cumulative_Palermo_Scale\",\"Maximum_Palermo_Scale\"]]  #we have more than one input\n",
    "y=df[\"Possible_Impacts\"].values\n",
    "\n",
    "x_train, x_test, y_train, y_test = train_test_split(x, y, test_size=0.35, random_state=40)  #splitting data\n",
    "lg=LinearRegression()\n",
    "poly=PolynomialFeatures(degree=2)\n",
    "\n",
    "x_train_fit = poly.fit_transform(x_train) #transforming our input data\n",
    "lg.fit(x_train_fit, y_train)\n",
    "x_test_ = poly.fit_transform(x_test)\n",
    "predicted = lg.predict(x_test_)\n",
    "\n",
    "print(\"MSE: \", metrics.mean_squared_error(y_test, predicted))\n",
    "print(\"R squared: \", metrics.r2_score(y_test,predicted))\n",
    "\n"
   ]
  },
  {
   "cell_type": "code",
   "execution_count": 94,
   "metadata": {},
   "outputs": [
    {
     "name": "stdout",
     "output_type": "stream",
     "text": [
      "MSE:  377040.7776293227\n",
      "R squared:  -24.35539739617201\n"
     ]
    }
   ],
   "source": [
    "x=df[[\"Period_Start\",\"Period_End\",\"Cumulative_Impact_Probability\",\"Asteroid_Velocity\",\"Asteroid_Magnitude\",\"Cumulative_Palermo_Scale\",\"Maximum_Palermo_Scale\"]]  #we have more than one input\n",
    "y=df[\"Possible_Impacts\"].values\n",
    "\n",
    "x_train, x_test, y_train, y_test = train_test_split(x, y, test_size=0.35, random_state=40)  #splitting data\n",
    "lg=LinearRegression()\n",
    "poly=PolynomialFeatures(degree=2)\n",
    "\n",
    "x_train_fit = poly.fit_transform(x_train) #transforming our input data\n",
    "lg.fit(x_train_fit, y_train)\n",
    "x_test_ = poly.fit_transform(x_test)\n",
    "predicted = lg.predict(x_test_)\n",
    "\n",
    "print(\"MSE: \", metrics.mean_squared_error(y_test, predicted))\n",
    "print(\"R squared: \", metrics.r2_score(y_test,predicted))\n",
    "\n"
   ]
  },
  {
   "cell_type": "code",
   "execution_count": 95,
   "metadata": {},
   "outputs": [
    {
     "name": "stdout",
     "output_type": "stream",
     "text": [
      "MSE:  320352.2268184058\n",
      "R squared:  -20.543181798004028\n"
     ]
    }
   ],
   "source": [
    "x=df[[\"Period_Start\",\"Period_End\",\"Cumulative_Impact_Probability\",\"Asteroid_Velocity\",\"Asteroid_Magnitude\",\"Asteroid_Diameter_km\",\"Maximum_Palermo_Scale\"]]  #we have more than one input\n",
    "y=df[\"Possible_Impacts\"].values\n",
    "\n",
    "x_train, x_test, y_train, y_test = train_test_split(x, y, test_size=0.35, random_state=40)  #splitting data\n",
    "lg=LinearRegression()\n",
    "poly=PolynomialFeatures(degree=2)\n",
    "\n",
    "x_train_fit = poly.fit_transform(x_train) #transforming our input data\n",
    "lg.fit(x_train_fit, y_train)\n",
    "x_test_ = poly.fit_transform(x_test)\n",
    "predicted = lg.predict(x_test_)\n",
    "\n",
    "print(\"MSE: \", metrics.mean_squared_error(y_test, predicted))\n",
    "print(\"R squared: \", metrics.r2_score(y_test,predicted))\n",
    "\n"
   ]
  },
  {
   "cell_type": "code",
   "execution_count": 96,
   "metadata": {},
   "outputs": [
    {
     "name": "stdout",
     "output_type": "stream",
     "text": [
      "MSE:  294731.745276727\n",
      "R squared:  -18.82024483862504\n"
     ]
    }
   ],
   "source": [
    "x=df[[\"Period_Start\",\"Period_End\",\"Cumulative_Impact_Probability\",\"Asteroid_Velocity\",\"Asteroid_Magnitude\",\"Asteroid_Diameter_km\",\"Cumulative_Palermo_Scale\"]]  #we have more than one input\n",
    "y=df[\"Possible_Impacts\"].values\n",
    "\n",
    "x_train, x_test, y_train, y_test = train_test_split(x, y, test_size=0.35, random_state=40)  #splitting data\n",
    "lg=LinearRegression()\n",
    "poly=PolynomialFeatures(degree=2)\n",
    "\n",
    "x_train_fit = poly.fit_transform(x_train) #transforming our input data\n",
    "lg.fit(x_train_fit, y_train)\n",
    "x_test_ = poly.fit_transform(x_test)\n",
    "predicted = lg.predict(x_test_)\n",
    "\n",
    "print(\"MSE: \", metrics.mean_squared_error(y_test, predicted))\n",
    "print(\"R squared: \", metrics.r2_score(y_test,predicted))\n",
    "\n"
   ]
  },
  {
   "cell_type": "code",
   "execution_count": 97,
   "metadata": {},
   "outputs": [
    {
     "name": "stdout",
     "output_type": "stream",
     "text": [
      "MSE:  6429.794489899371\n",
      "R squared:  0.5676064655600883\n"
     ]
    }
   ],
   "source": [
    "x=df[[\"Period_Start\",\"Period_End\",\"Asteroid_Velocity\",\"Asteroid_Diameter_km\",\"Cumulative_Palermo_Scale\",\"Maximum_Palermo_Scale\"]]  #we have more than one input\n",
    "y=df[\"Possible_Impacts\"].values\n",
    "\n",
    "x_train, x_test, y_train, y_test = train_test_split(x, y, test_size=0.35, random_state=40)  #splitting data\n",
    "lg=LinearRegression()\n",
    "poly=PolynomialFeatures(degree=2)\n",
    "\n",
    "x_train_fit = poly.fit_transform(x_train) #transforming our input data\n",
    "lg.fit(x_train_fit, y_train)\n",
    "x_test_ = poly.fit_transform(x_test)\n",
    "predicted = lg.predict(x_test_)\n",
    "\n",
    "print(\"MSE: \", metrics.mean_squared_error(y_test, predicted))\n",
    "print(\"R squared: \", metrics.r2_score(y_test,predicted))\n",
    "\n"
   ]
  },
  {
   "cell_type": "code",
   "execution_count": 115,
   "metadata": {},
   "outputs": [
    {
     "name": "stdout",
     "output_type": "stream",
     "text": [
      "MSE:  6355.226798206409\n",
      "R squared:  0.5790600768832477\n"
     ]
    }
   ],
   "source": [
    "x=df[[\"Period_Start\",\"Period_End\",\"Asteroid_Velocity\",\"Asteroid_Diameter_km\",\"Cumulative_Palermo_Scale\",\"Maximum_Palermo_Scale\"]]  #we have more than one input\n",
    "y=df[\"Possible_Impacts\"].values\n",
    "\n",
    "x_train, x_test, y_train, y_test = train_test_split(x, y, test_size=0.34, random_state=40)  #splitting data\n",
    "lg=LinearRegression()\n",
    "poly=PolynomialFeatures(degree=2)\n",
    "\n",
    "x_train_fit = poly.fit_transform(x_train) #transforming our input data\n",
    "lg.fit(x_train_fit, y_train)\n",
    "x_test_ = poly.fit_transform(x_test)\n",
    "predicted = lg.predict(x_test_)\n",
    "\n",
    "print(\"MSE: \", metrics.mean_squared_error(y_test, predicted))\n",
    "print(\"R squared: \", metrics.r2_score(y_test,predicted))\n"
   ]
  },
  {
   "cell_type": "markdown",
   "metadata": {},
   "source": [
    "this is the maximum of optimisation that i reached for this data set "
   ]
  },
  {
   "cell_type": "code",
   "execution_count": null,
   "metadata": {},
   "outputs": [],
   "source": []
  }
 ],
 "metadata": {
  "kernelspec": {
   "display_name": "Python 3",
   "language": "python",
   "name": "python3"
  },
  "language_info": {
   "codemirror_mode": {
    "name": "ipython",
    "version": 3
   },
   "file_extension": ".py",
   "mimetype": "text/x-python",
   "name": "python",
   "nbconvert_exporter": "python",
   "pygments_lexer": "ipython3",
   "version": "3.8.3"
  }
 },
 "nbformat": 4,
 "nbformat_minor": 4
}
