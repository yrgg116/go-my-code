{
 "cells": [
  {
   "cell_type": "code",
   "execution_count": 1,
   "metadata": {},
   "outputs": [
    {
     "name": "stdout",
     "output_type": "stream",
     "text": [
      "2030,2065,2100,2135,2170,2205,2240,2275,2310,2345,2380,2415,2450,2485,2520,2555,2590,2625,2660,2695,2730,2765,2800,2835,2870,2905,2940,2975,3010,3045,3080,3115,3150,3185,"
     ]
    }
   ],
   "source": [
    "for x in range (2002,3200,7):\n",
    "    if x%5==0:\n",
    "        print(x, end=',')"
   ]
  },
  {
   "cell_type": "code",
   "execution_count": 2,
   "metadata": {},
   "outputs": [
    {
     "name": "stdout",
     "output_type": "stream",
     "text": [
      "enter number5\n",
      "120\n"
     ]
    }
   ],
   "source": [
    "def factorial(n):\n",
    "    if n==0:\n",
    "        return 1\n",
    "    else:\n",
    "        return n*factorial(n-1)\n",
    "n=int(input('enter number'))\n",
    "print(factorial (n))"
   ]
  },
  {
   "cell_type": "code",
   "execution_count": 3,
   "metadata": {},
   "outputs": [
    {
     "name": "stdout",
     "output_type": "stream",
     "text": [
      "enter number5\n",
      "{1: 1, 2: 4, 3: 9, 4: 16, 5: 25}\n"
     ]
    }
   ],
   "source": [
    "i=int(input('enter number'))\n",
    "x==1\n",
    "mydict={}\n",
    "for x in range(1,i+1):\n",
    "    mydict[x]=x*x\n",
    "    x=x+1\n",
    "print(mydict)"
   ]
  },
  {
   "cell_type": "code",
   "execution_count": 4,
   "metadata": {},
   "outputs": [
    {
     "name": "stdout",
     "output_type": "stream",
     "text": [
      "enter word hello\n",
      "enter number 3\n",
      "helo\n"
     ]
    }
   ],
   "source": [
    "a=str(input('enter word '))\n",
    "b=int(input('enter number '))\n",
    "if len(a)>b:\n",
    "    a=a[ 0 : b : ]+a[b+1 : :]\n",
    "    print(a)"
   ]
  },
  {
   "cell_type": "code",
   "execution_count": null,
   "metadata": {},
   "outputs": [],
   "source": [
    "\n"
   ]
  },
  {
   "cell_type": "code",
   "execution_count": 16,
   "metadata": {},
   "outputs": [
    {
     "name": "stdout",
     "output_type": "stream",
     "text": [
      "oringinal array elements:[[0 1]\n",
      " [2 3]\n",
      " [4 5]]\n",
      "array to list:[[0, 1], [2, 3], [4, 5]]\n"
     ]
    }
   ],
   "source": [
    "import numpy as np\n",
    "a=np.array([[0,1],[2,3],[4,5]])\n",
    "print(\"oringinal array elements:\",end='') \n",
    "print(a)\n",
    "print(\"array to list:\",end='') \n",
    "print(a.tolist())"
   ]
  },
  {
   "cell_type": "code",
   "execution_count": 24,
   "metadata": {},
   "outputs": [
    {
     "name": "stdout",
     "output_type": "stream",
     "text": [
      "Oringinal array 1: [0, 1, 2]\n",
      "Oringinal array 2: [2, 1, 0]\n",
      "Covariance matrix of the said arrays\n",
      "[[ 1. -1.]\n",
      " [-1.  1.]]\n"
     ]
    }
   ],
   "source": [
    "import numpy as np\n",
    "A=[0,1,2]\n",
    "B=[2,1,0]\n",
    "data=np.array([A,B])\n",
    "print(\"Oringinal array 1: \",end='')\n",
    "print(A)\n",
    "print(\"Oringinal array 2: \",end='')\n",
    "print(B)\n",
    "covMatrix=np.cov(data,bias=False)\n",
    "print(\"Covariance matrix of the said arrays\")\n",
    "print(covMatrix)"
   ]
  },
  {
   "cell_type": "code",
   "execution_count": 12,
   "metadata": {},
   "outputs": [
    {
     "ename": "SyntaxError",
     "evalue": "invalid syntax (<ipython-input-12-fd8f6521bfbe>, line 8)",
     "output_type": "error",
     "traceback": [
      "\u001b[1;36m  File \u001b[1;32m\"<ipython-input-12-fd8f6521bfbe>\"\u001b[1;36m, line \u001b[1;32m8\u001b[0m\n\u001b[1;33m    while b<1:\u001b[0m\n\u001b[1;37m    ^\u001b[0m\n\u001b[1;31mSyntaxError\u001b[0m\u001b[1;31m:\u001b[0m invalid syntax\n"
     ]
    }
   ],
   "source": [
    "import math\n",
    "x=input(\"D:\")\n",
    "a=x.split(\",\")\n",
    "b==0\n",
    "while b<len(a):\n",
    "    c=math.sqrt((100*(a[int(b)])/30)\n",
    "                \n",
    "    while b<1:\n",
    "        print(int(c))\n",
    "        b=b+1\n",
    "    else:\n",
    "        print(\",\",end='')\n",
    "        print(int(c))\n",
    "        b=b+1"
   ]
  },
  {
   "cell_type": "code",
   "execution_count": null,
   "metadata": {},
   "outputs": [],
   "source": []
  },
  {
   "cell_type": "code",
   "execution_count": null,
   "metadata": {},
   "outputs": [],
   "source": []
  },
  {
   "cell_type": "code",
   "execution_count": null,
   "metadata": {},
   "outputs": [],
   "source": []
  }
 ],
 "metadata": {
  "kernelspec": {
   "display_name": "Python 3",
   "language": "python",
   "name": "python3"
  },
  "language_info": {
   "codemirror_mode": {
    "name": "ipython",
    "version": 3
   },
   "file_extension": ".py",
   "mimetype": "text/x-python",
   "name": "python",
   "nbconvert_exporter": "python",
   "pygments_lexer": "ipython3",
   "version": "3.8.3"
  }
 },
 "nbformat": 4,
 "nbformat_minor": 4
}
